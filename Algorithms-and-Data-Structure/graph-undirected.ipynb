{
 "cells": [
  {
   "cell_type": "markdown",
   "metadata": {},
   "source": [
    "# Graph [undirected]\n",
    "---\n",
    "- Author: Diego Inácio\n",
    "- GitHub: [github.com/diegoinacio](https://github.com/diegoinacio)\n",
    "- Notebook: [graph-undirected.ipynb](https://github.com/diegoinacio/computer-science-notebooks/blob/master/Algorithms-and-Data-Structure/graph-undirected.ipynb)\n",
    "---\n",
    "A rudimentary implementation of an *undirected graph* structure."
   ]
  },
  {
   "cell_type": "markdown",
   "metadata": {},
   "source": [
    "A [graph](https://en.wikipedia.org/wiki/Graph_(abstract_data_type)) an abstract data structure that is meant to implement concepts from the field of [graph theory](https://en.wikipedia.org/wiki/Graph_theory) and [discrete mathematics](https://en.wikipedia.org/wiki/Graph_(discrete_mathematics)). Graphs are mainly composed of **vertices**, **edges** and **weights**, and its structure can vary depending on the purpose. A vertex can connect to another, so they are adjacent to each other. Each connection is considered an edge and it can be *weited* or *unwaited* (in this case let's consider the weight as 1). Furthermore, a graph can be **directed** (linked asymmetrically) or **undirected** (linked symmetrically). For this article, we are going to approach the **undirected** structure.\n",
    "\n",
    "![graph undirected 01](sourceimages/graph-undirected-01.jpg)\n",
    "\n",
    "The structure of our *undirected graph* will be divided in *2 classes* (*Vertex* and *UndirectedGraph*)."
   ]
  },
  {
   "cell_type": "markdown",
   "metadata": {},
   "source": [
    "## Vertex class\n",
    "---\n",
    "The *Vertex* class is responsible for storing the vertex *id* and its adjacent vertices. The method `add_neighbor` receive as arguments a Vertex object (v) and the weight (w) of their connection. For *unweighted* graphs, consider the weight as 1."
   ]
  },
  {
   "cell_type": "code",
   "execution_count": null,
   "metadata": {},
   "outputs": [],
   "source": [
    "class Vertex:\n",
    "    def __init__(self, vertex):\n",
    "        self.id = vertex\n",
    "        self.adjacent = {}\n",
    "\n",
    "    def add_neighbor(self, v, w=1):\n",
    "        self.adjacent[v.id] = w\n",
    "\n",
    "    def __str__(self):\n",
    "        return f'Vertex [{self.id}] adjacent {self.adjacent}'"
   ]
  },
  {
   "cell_type": "code",
   "execution_count": null,
   "metadata": {},
   "outputs": [],
   "source": [
    "V = Vertex(\"a\")\n",
    "V.add_neighbor(Vertex(\"b\"), 3)\n",
    "V.add_neighbor(Vertex(\"c\"), 2)\n",
    "print(V)"
   ]
  },
  {
   "cell_type": "markdown",
   "metadata": {},
   "source": [
    "## Undirected Graph class\n",
    "---\n",
    "The *UndirectedGraph* has 2 methods (*add_vertex* and *add_edge*) that are responsible to construct a graph structure. Graphs can have *floating* vertices, what means they are not connected to any vertex. This is why the method *add_vertex* exists separately."
   ]
  },
  {
   "cell_type": "code",
   "execution_count": null,
   "metadata": {},
   "outputs": [],
   "source": [
    "class UndirectedGraph:\n",
    "    def __init__(self):\n",
    "        self.vertices = {}\n",
    "        self.n_vert = 0\n",
    "\n",
    "    def add_vertex(self, vertex):\n",
    "        if vertex not in self.vertices:\n",
    "            self.vertices[vertex] = Vertex(vertex)\n",
    "            self.n_vert = len(self.vertices)\n",
    "\n",
    "    def add_edge(self, vo, vi, w=0):\n",
    "        if vo not in self.vertices:\n",
    "            self.add_vertex(vo)\n",
    "        if vi not in self.vertices:\n",
    "            self.add_vertex(vi)\n",
    "        self.vertices[vo].add_neighbor(self.vertices[vi], w)\n",
    "        self.vertices[vi].add_neighbor(self.vertices[vo], w)\n",
    "\n",
    "    def get_vertex(self, vertex):\n",
    "        adjacent = self.vertices[vertex].adjacent\n",
    "        n_adj = len(adjacent)\n",
    "        return [vertex, n_adj, adjacent]\n",
    "\n",
    "    def get_vertices(self):\n",
    "        return [self.get_vertex(v) for v in sorted(self.vertices)]\n",
    "\n",
    "    def display_vertex(self, vertex):\n",
    "        VERTEX = self.get_vertex(vertex)\n",
    "        n_adj = VERTEX[1]\n",
    "        adjacent = VERTEX[2]\n",
    "        output = f'[{n_adj}] Vertex \"{vertex}\":\\n'\n",
    "        for v in sorted(adjacent):\n",
    "            output += f'\\t{vertex} <-> {v} [{adjacent[v]}]\\n'\n",
    "        print(output)\n",
    "\n",
    "    def display_vertices(self):\n",
    "        for vertex in sorted(self.vertices.keys()):\n",
    "            self.display_vertex(vertex)"
   ]
  },
  {
   "cell_type": "markdown",
   "metadata": {},
   "source": [
    "## Building undirected graphs\n",
    "---\n",
    "To build an undirected graph we basic use the method *add_edge*, which receive as arguments the IDs of its respective vertices and the weight. Note that this version does not support double connection between the same 2 vertices.\n",
    "\n",
    "![graph undirected 02](sourceimages/graph-undirected-02.jpg)\n",
    "\n",
    "For example, considering the graph above, the building procedure would be:"
   ]
  },
  {
   "cell_type": "code",
   "execution_count": null,
   "metadata": {},
   "outputs": [],
   "source": [
    "G = UndirectedGraph()\n",
    "G.add_edge(\"a\", \"b\", 5)\n",
    "G.add_edge(\"c\", \"b\", 9)\n",
    "G.add_edge(\"b\", \"d\", 3)\n",
    "G.add_edge(\"c\", \"d\", 2)\n",
    "G.add_edge(\"d\", \"e\", 4)\n",
    "\n",
    "G.display_vertices()"
   ]
  },
  {
   "cell_type": "markdown",
   "metadata": {},
   "source": [
    "It is possible to exist unconnected parts of a graph or floating vertices. It might be useful when applied to some specific algorithms or studies.\n",
    "\n",
    "![graph undirected 03](sourceimages/graph-undirected-03.jpg)\n",
    "\n",
    "Considering the graph above, the building procedure would be:"
   ]
  },
  {
   "cell_type": "code",
   "execution_count": null,
   "metadata": {},
   "outputs": [],
   "source": [
    "G = UndirectedGraph()\n",
    "G.add_vertex(\"a\")\n",
    "G.add_edge(\"c\", \"b\", 9)\n",
    "G.add_edge(\"b\", \"d\", 3)\n",
    "G.add_edge(\"c\", \"d\", 5)\n",
    "G.add_edge(\"f\", \"e\", 4)\n",
    "\n",
    "G.display_vertices()"
   ]
  }
 ],
 "metadata": {
  "kernelspec": {
   "display_name": "Python 3",
   "language": "python",
   "name": "python3"
  },
  "language_info": {
   "codemirror_mode": {
    "name": "ipython",
    "version": 3
   },
   "file_extension": ".py",
   "mimetype": "text/x-python",
   "name": "python",
   "nbconvert_exporter": "python",
   "pygments_lexer": "ipython3",
   "version": "3.7.10"
  }
 },
 "nbformat": 4,
 "nbformat_minor": 2
}
