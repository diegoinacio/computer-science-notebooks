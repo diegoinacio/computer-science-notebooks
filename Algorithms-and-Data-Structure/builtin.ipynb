{
 "cells": [
  {
   "cell_type": "markdown",
   "metadata": {},
   "source": [
    "# Built-In Data Structures\n",
    "---\n",
    "- Author: Diego Inácio\n",
    "- GitHub: [github.com/diegoinacio](https://github.com/diegoinacio)\n",
    "- Notebook: [builtin.ipynb](https://github.com/diegoinacio/computer-science-notebooks/blob/master/Algorithms-and-Data-Structure/builtin.ipynb)\n",
    "---\n",
    "A brief overview of *Python's* built-in data structures."
   ]
  },
  {
   "cell_type": "markdown",
   "metadata": {},
   "source": [
    "By default, python has several inbuilt *simple types*, such as: `int`, `float`, `complex`, `bool`, `str` and so on. Each of them has a value, which represents one kind of information like *number*, *logical*, *text* and more."
   ]
  },
  {
   "cell_type": "code",
   "execution_count": null,
   "metadata": {},
   "outputs": [],
   "source": [
    "print(type(1))\n",
    "print(type(1.0))\n",
    "print(type(1+2j))\n",
    "print(type(True))\n",
    "print(type(\"word\"))"
   ]
  },
  {
   "cell_type": "markdown",
   "metadata": {},
   "source": [
    "Nonetheless, *simple types* can't be considered a data structure itself, but Python has some built-in compound types that act as polymorphic containers that collect any other type, including other compound types. These structures are `lists`, `tuples`, `sets` and `dictionaries`."
   ]
  },
  {
   "cell_type": "markdown",
   "metadata": {},
   "source": [
    "## List\n",
    "---\n",
    "[List](https://docs.python.org/3/tutorial/datastructures.html#more-on-lists) is a type that has the characteristic of being **ordered** and **mutable**, what means that you can access or change its members by using an index. The literal form of a list is given by the separation of the values with commas (,) and everything surrounded by square brackets ([])."
   ]
  },
  {
   "cell_type": "code",
   "execution_count": null,
   "metadata": {},
   "outputs": [],
   "source": [
    "L = [1, 2, 3]\n",
    "print(type(L))\n",
    "print(L)"
   ]
  },
  {
   "cell_type": "markdown",
   "metadata": {},
   "source": [
    "As any other container object in Python, *lists* also support multiple types as values, something similar to *dynamic arrays* in C++."
   ]
  },
  {
   "cell_type": "code",
   "execution_count": null,
   "metadata": {},
   "outputs": [],
   "source": [
    "L = [1, \"a\", True, [1, 2, 3]]\n",
    "print(L)"
   ]
  },
  {
   "cell_type": "markdown",
   "metadata": {},
   "source": [
    "### Indices and slices\n",
    "---\n",
    "To access an element or a slice containing a sequence of elements, lists uses indices, where **0** represents the first element of the list, **1** represents the second and so on. In Python, we use square brackets after the objects to include the indices."
   ]
  },
  {
   "cell_type": "code",
   "execution_count": null,
   "metadata": {},
   "outputs": [],
   "source": [
    "L = [10, 20, 30]\n",
    "\n",
    "# Access the second element (index 1)\n",
    "print(L[1])"
   ]
  },
  {
   "cell_type": "markdown",
   "metadata": {},
   "source": [
    "Slices provede us a sub-list and it uses a colon to indicate the start point (inclusive) and end point (non-inclusive). For example, if you want to access the 2nd, 3rd and 4th elements, start including the index of the 2nd element (1) and an index after the 4th element (4). In this way, it would be something like `L[1:4]`. When we don't specify the first index (for example `L[:3]`), it means that the slice will start with the first element of the list. The same happens with the last element."
   ]
  },
  {
   "cell_type": "code",
   "execution_count": null,
   "metadata": {},
   "outputs": [],
   "source": [
    "L = [\"a\", \"b\", \"c\", \"d\", \"e\"]\n",
    "\n",
    "# From the 1st element to 4th (not included)\n",
    "print(L[:3])\n",
    "# From the 3rd element to 5th (not included)\n",
    "print(L[2:5])\n",
    "# From the 4rd element to the last\n",
    "print(L[3:])"
   ]
  },
  {
   "cell_type": "markdown",
   "metadata": {},
   "source": [
    "### Mutability\n",
    "---\n",
    "The mutability of a list means that you can change any element or sub-list without initing a new list again."
   ]
  },
  {
   "cell_type": "code",
   "execution_count": null,
   "metadata": {},
   "outputs": [],
   "source": [
    "L = [1, 2, 3]\n",
    "print(L)\n",
    "\n",
    "L[1] = 4\n",
    "print(L)"
   ]
  },
  {
   "cell_type": "markdown",
   "metadata": {},
   "source": [
    "The operator `+` works as a \"concatenator\" between lists and when it is used as a assigment operator (+=) it makes the change locally."
   ]
  },
  {
   "cell_type": "code",
   "execution_count": null,
   "metadata": {},
   "outputs": [],
   "source": [
    "L = [1, 2, 3] + [4, 5, 6]\n",
    "# Shows the list's ID\n",
    "print(id(L), \" | \", L)\n",
    "\n",
    "L = L + [7, 8, 9]\n",
    "# Initing a new list\n",
    "print(id(L), \" | \", L)\n",
    "\n",
    "L += [1, 2, 3]\n",
    "# Concatenating an changing the same list\n",
    "print(id(L), \" | \", L)"
   ]
  },
  {
   "cell_type": "markdown",
   "metadata": {},
   "source": [
    "## Tuple\n",
    "---\n",
    "[Tuples](https://docs.python.org/3/tutorial/datastructures.html#tuples-and-sequences) are pretty similar to lists in many ways, but the main difference is that they are **not mutable**. The literal form of a tuple is given by the separation of the values with commas (,) and everything is surrounded by parentheses (())."
   ]
  },
  {
   "cell_type": "code",
   "execution_count": null,
   "metadata": {},
   "outputs": [],
   "source": [
    "T = (1, 2, 3)\n",
    "print(type(T))\n",
    "print(T)\n",
    "\n",
    "# They accept also multiple types\n",
    "T = (1, \"a\", True, [1, 2, 3])\n",
    "print(T)"
   ]
  },
  {
   "cell_type": "markdown",
   "metadata": {},
   "source": [
    "### Indices and slices\n",
    "---\n",
    "For being also an ordered structure, the elements are indexed in the same way as lists."
   ]
  },
  {
   "cell_type": "code",
   "execution_count": null,
   "metadata": {},
   "outputs": [],
   "source": [
    "T = (\"a\", 1, True, [1, 2, 3])\n",
    "print(T[2])\n",
    "print(T[:2])"
   ]
  },
  {
   "cell_type": "markdown",
   "metadata": {},
   "source": [
    "### Immutability\n",
    "---\n",
    "By the fact that tuples are immutable, if we try to change an element, Python will raise us an error."
   ]
  },
  {
   "cell_type": "code",
   "execution_count": null,
   "metadata": {},
   "outputs": [],
   "source": [
    "T = (1, 2, 3)\n",
    "print(T)\n",
    "\n",
    "T[1] = 4\n",
    "print(T)"
   ]
  },
  {
   "cell_type": "markdown",
   "metadata": {},
   "source": [
    "In addition, even tuples using assigment operators for concatenation, they are not mutable like lists."
   ]
  },
  {
   "cell_type": "code",
   "execution_count": null,
   "metadata": {},
   "outputs": [],
   "source": [
    "T = (1, 2, 3) + (4, 5, 6)\n",
    "# Shows the tuple's ID\n",
    "print(id(T), \" | \", T)\n",
    "\n",
    "T = T + (7, 8, 9)\n",
    "# Initing a new tuple\n",
    "print(id(T), \" | \", T)\n",
    "\n",
    "T += (1, 2, 3)\n",
    "# Concatenating an changing the same list\n",
    "print(id(T), \" | \", T)"
   ]
  },
  {
   "cell_type": "markdown",
   "metadata": {},
   "source": [
    "## Set\n",
    "---\n",
    "[Set](https://docs.python.org/3/tutorial/datastructures.html#sets) is a very special kind of compounded object that is **unordered** and has **no duplicate** elements. The literal form of a set is given by the separation of the values with commas (,) and everything is surrounded by curly brackets ({})."
   ]
  },
  {
   "cell_type": "code",
   "execution_count": null,
   "metadata": {},
   "outputs": [],
   "source": [
    "S = {1, \"a\", 1+2j}\n",
    "print(type(S))\n",
    "print(S)"
   ]
  },
  {
   "cell_type": "markdown",
   "metadata": {},
   "source": [
    "A set allows only simple unique types, like numbers and strings."
   ]
  },
  {
   "cell_type": "code",
   "execution_count": null,
   "metadata": {},
   "outputs": [],
   "source": [
    "S = {0, 1, 2}\n",
    "print(S)\n",
    "\n",
    "# Will raise an error, since it has another nested set\n",
    "S = {0, 1, 2, {0, 1, 2}}\n",
    "print(S)"
   ]
  },
  {
   "cell_type": "markdown",
   "metadata": {},
   "source": [
    "### Duplicate elements\n",
    "---\n",
    "Set don't store duplicate elements, despite allowing different types of values."
   ]
  },
  {
   "cell_type": "code",
   "execution_count": null,
   "metadata": {},
   "outputs": [],
   "source": [
    "# 2 and 2.0 are considered duplicate\n",
    "S = {1, 2, 2, 2.0, 2.1}\n",
    "print(S)"
   ]
  },
  {
   "cell_type": "markdown",
   "metadata": {},
   "source": [
    "### Mutability\n",
    "---\n",
    "Despite not being oredered (what means that we cannot access its elements by indexing), they are mutable. Let's try using the *union operator* (|) to change its content."
   ]
  },
  {
   "cell_type": "code",
   "execution_count": null,
   "metadata": {},
   "outputs": [],
   "source": [
    "S = {1, 2, 3} | {4, 5, 6}\n",
    "print(id(S))\n",
    "\n",
    "S = S | {7, 8, 9}\n",
    "print(id(S))\n",
    "\n",
    "S |= {7, 8, 9}\n",
    "print(id(S))"
   ]
  },
  {
   "cell_type": "markdown",
   "metadata": {},
   "source": [
    "### Operators\n",
    "---\n",
    "One of the most interesting aspects of sets is the fact that we can make operations between them based on the concepts of mathematical sets. The operations are `union`, `intersection`, `difference` and `symmetric difference`.\n",
    "\n",
    "- The **union** operator (|) give us all the unique elements in both sets.\n",
    "- The **intersection** operator (&) give us the elements in common in both sets.\n",
    "- The **difference** operator (-) give us all the elements in the first set that is not in the second.\n",
    "- The **symmetric difference** operator (^) give us all elements in the first or second, but not in both sets."
   ]
  },
  {
   "cell_type": "code",
   "execution_count": null,
   "metadata": {},
   "outputs": [],
   "source": [
    "S1 = {1, 2, 3, 4}\n",
    "S2 = {2, 3, 4, 5}\n",
    "\n",
    "# Union operation\n",
    "print(S1 | S2)\n",
    "\n",
    "# Intersection operation\n",
    "print(S1 & S2)\n",
    "\n",
    "# Difference operation\n",
    "print(S1 - S2)\n",
    "\n",
    "# Symmetric difference operation\n",
    "print(S1 ^ S2)"
   ]
  },
  {
   "cell_type": "markdown",
   "metadata": {},
   "source": [
    "## Dictionary\n",
    "---\n",
    "[Dictionaries](https://docs.python.org/3/tutorial/datastructures.html#dictionaries) are basically a mapping of key values or hashable objects. They are **unordered** and **mutable**, what make them a very powerful and flexible data structure. The literal form of a dictionary is given by the separation of the `key: values` with commas (,) and everything is surrounded by curly brackets ({})."
   ]
  },
  {
   "cell_type": "code",
   "execution_count": null,
   "metadata": {},
   "outputs": [],
   "source": [
    "D = {\"key01\": \"word\", \"key02\": [1, 2, 3]}\n",
    "print(type(D))\n",
    "print(D)"
   ]
  },
  {
   "cell_type": "markdown",
   "metadata": {},
   "source": [
    "### Indexing and mutability\n",
    "---\n",
    "For not being an ordered structure, the elements can be reached by using the key values. To change the element value, we attribute a new value using its key. If the key does not existe, a new element will be created."
   ]
  },
  {
   "cell_type": "code",
   "execution_count": null,
   "metadata": {},
   "outputs": [],
   "source": [
    "D = {\"a\": 1, \"b\": 2}\n",
    "print(D[\"a\"])\n",
    "\n",
    "D[\"b\"] = 3\n",
    "print(D)\n",
    "\n",
    "# New element\n",
    "D[\"c\"] = [1, 2, 3]\n",
    "print(D)"
   ]
  }
 ],
 "metadata": {
  "kernelspec": {
   "display_name": "Python 3",
   "language": "python",
   "name": "python3"
  },
  "language_info": {
   "codemirror_mode": {
    "name": "ipython",
    "version": 3
   },
   "file_extension": ".py",
   "mimetype": "text/x-python",
   "name": "python",
   "nbconvert_exporter": "python",
   "pygments_lexer": "ipython3",
   "version": "3.7.10"
  }
 },
 "nbformat": 4,
 "nbformat_minor": 2
}
