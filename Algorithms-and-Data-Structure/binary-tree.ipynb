{
 "cells": [
  {
   "cell_type": "markdown",
   "metadata": {},
   "source": [
    "# Binary Tree\n",
    "---\n",
    "- Author: Diego Inácio\n",
    "- GitHub: [github.com/diegoinacio](https://github.com/diegoinacio)\n",
    "- Notebook: [binary-tree.ipynb](https://github.com/diegoinacio/computer-science-notebooks/blob/master/Algorithms-and-Data-Structure/binary-tree.ipynb)\n",
    "---\n",
    "A basic implementation of a binary tree structure."
   ]
  },
  {
   "cell_type": "markdown",
   "metadata": {},
   "source": [
    "A [binary tree](https://en.wikipedia.org/wiki/Binary_tree) is basically a structure with *nodes* connected by edges. Each node has a maximum of two children, which are usually called as **the left child node** and **the right child node**. The first node of the tree is commonly referred to as **the root**.\n",
    "\n",
    "![binary tree 01](sourceimages/binary-tree-01.jpg)\n",
    "\n",
    "The structure of our binary tree will be divided in *2 classes* (*Node* and *BinaryTree*) and *1 builder function* (*BuildTree*)."
   ]
  },
  {
   "cell_type": "markdown",
   "metadata": {},
   "source": [
    "## Node class\n",
    "---\n",
    "The *Node* class is responsible for storing the node data (or the node value) and referring (or not) to child nodes that will be connected to its *left* and *right* edges. So, the node class will have 3 attributes: *data*, *left* and *right*."
   ]
  },
  {
   "cell_type": "code",
   "execution_count": null,
   "metadata": {},
   "outputs": [],
   "source": [
    "class Node(object):\n",
    "    def __init__(self, data):\n",
    "        self._data = data\n",
    "        self._left = None\n",
    "        self._right = None\n",
    "\n",
    "    @property\n",
    "    def data(self):\n",
    "        return self._data\n",
    "\n",
    "    @data.setter\n",
    "    def data(self, value):\n",
    "        self._data = value\n",
    "\n",
    "    @property\n",
    "    def left(self):\n",
    "        return self._left\n",
    "\n",
    "    @left.setter\n",
    "    def left(self, value):\n",
    "        self._left = Node(value)\n",
    "\n",
    "    @property\n",
    "    def right(self):\n",
    "        return self._right\n",
    "\n",
    "    @right.setter\n",
    "    def right(self, value):\n",
    "        self._right = Node(value)\n",
    "\n",
    "    def __str__(self):\n",
    "        left = self._left and self._left.data\n",
    "        right = self._right and self._right.data\n",
    "        return f'Node [{self._data}] {{left: {left}, right: {right}}}'"
   ]
  },
  {
   "cell_type": "code",
   "execution_count": null,
   "metadata": {},
   "outputs": [],
   "source": [
    "N = Node(5)\n",
    "print(N)"
   ]
  },
  {
   "cell_type": "markdown",
   "metadata": {},
   "source": [
    "## Binary tree class\n",
    "---\n",
    "The *BinaryTree* class has just 1 attribute, which is the *root*. This attribute is a Node object and starts the chain of Node object that will compound the tree itself. The print method is based on level-order traversal algorithm, but it will be covered in another notebook."
   ]
  },
  {
   "cell_type": "code",
   "execution_count": null,
   "metadata": {},
   "outputs": [],
   "source": [
    "class BinaryTree(object):\n",
    "    def __init__(self, value=None):\n",
    "        self._root = value and Node(value)\n",
    "\n",
    "    @property\n",
    "    def root(self):\n",
    "        return self._root\n",
    "\n",
    "    @root.setter\n",
    "    def root(self, value):\n",
    "        self._root = Node(value)\n",
    "\n",
    "    def __str__(self):\n",
    "        # print level-order\n",
    "        order, stack = [], [self._root]\n",
    "        while stack:\n",
    "            node = stack.pop(0)\n",
    "            if node:\n",
    "                order += [node.data]\n",
    "                stack += [node.left, node.right]\n",
    "        return \" -> \".join([f'{e}' for e in order])"
   ]
  },
  {
   "cell_type": "markdown",
   "metadata": {},
   "source": [
    "## Building the binary tree\n",
    "---\n",
    "The *BuildTree* function receive 2 arguments. The first one is the root of a *BinaryTree* object and the second is the list of pair values (left and right) for each node. The first pair is the left and right of the root and other ones are respective to the other nodes, following the top/down and left/right order. If the pair has **-1** as value, it means the current node has no child in this edge (this happens always with leaf nodes).\n",
    "\n",
    "![binary tree 02](sourceimages/binary-tree-02.gif)"
   ]
  },
  {
   "cell_type": "code",
   "execution_count": null,
   "metadata": {},
   "outputs": [],
   "source": [
    "def BuildTree(root, values):\n",
    "    if isinstance(root, Node):\n",
    "        # Init stacking the root node\n",
    "        stack = [root]\n",
    "        # Loop through values\n",
    "        for l, r in values:\n",
    "            # Get the first element from the stack\n",
    "            node = stack.pop(0)\n",
    "            # Store left node if not -1\n",
    "            if l != -1:\n",
    "                node.left = l\n",
    "                stack += [node.left]\n",
    "            # Store right node if not -1\n",
    "            if r != -1:\n",
    "                node.right = r\n",
    "                stack += [node.right]"
   ]
  },
  {
   "cell_type": "markdown",
   "metadata": {},
   "source": [
    "For example, having the following binary tree:\n",
    "\n",
    "![binary tree 03](sourceimages/binary-tree-03.jpg)\n",
    "\n",
    "The build function would be:"
   ]
  },
  {
   "cell_type": "code",
   "execution_count": null,
   "metadata": {},
   "outputs": [],
   "source": [
    "BT = BinaryTree(5)\n",
    "BuildTree(BT.root, [\n",
    "    [2, 3],\n",
    "    [4, 1],\n",
    "    [9, 8],\n",
    "    [6, 7],\n",
    "    [-1, -1],\n",
    "    [-1, -1],\n",
    "    [10, -1],\n",
    "    [-1, -1],\n",
    "    [-1, -1],\n",
    "    [-1, -1]\n",
    "])\n",
    "\n",
    "print(BT)"
   ]
  }
 ],
 "metadata": {
  "kernelspec": {
   "display_name": "Python 3",
   "language": "python",
   "name": "python3"
  },
  "language_info": {
   "codemirror_mode": {
    "name": "ipython",
    "version": 3
   },
   "file_extension": ".py",
   "mimetype": "text/x-python",
   "name": "python",
   "nbconvert_exporter": "python",
   "pygments_lexer": "ipython3",
   "version": "3.7.10"
  }
 },
 "nbformat": 4,
 "nbformat_minor": 2
}
