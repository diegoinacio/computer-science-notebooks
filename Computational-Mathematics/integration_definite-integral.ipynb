{
 "cells": [
  {
   "cell_type": "markdown",
   "metadata": {},
   "source": [
    "# Numerical Integration\n",
    "---\n",
    "- Author: Diego Inácio\n",
    "- GitHub: [github.com/diegoinacio](https://github.com/diegoinacio)\n",
    "- Notebook: [integration_definite-integral.ipynb](https://github.com/diegoinacio/computer-science-notebooks/blob/master/Computational-Mathematics/integration_definite-integral.ipynb)\n",
    "---\n",
    "Overview and implementation of some numerical methods for *definite integration*."
   ]
  },
  {
   "cell_type": "code",
   "execution_count": null,
   "metadata": {},
   "outputs": [],
   "source": [
    "import numpy as np"
   ]
  },
  {
   "cell_type": "markdown",
   "metadata": {},
   "source": [
    "## Definite Integral\n",
    "---\n",
    "$$ \\large\n",
    "f(x)=x^3-4x^2+4x+2\n",
    "$$"
   ]
  },
  {
   "cell_type": "code",
   "execution_count": null,
   "metadata": {},
   "outputs": [],
   "source": [
    "x = np.linspace(0, 3, 1001)\n",
    "f = lambda x: x**3 - 4*x**2 + 4*x + 2"
   ]
  },
  {
   "cell_type": "markdown",
   "metadata": {},
   "source": [
    "![analytical integration](output/integration_definite-integral_integration.png \"Analytical integration\")"
   ]
  },
  {
   "cell_type": "markdown",
   "metadata": {},
   "source": [
    "$$ \\large\n",
    "I=\\int_{a}^{b}f(x) \\, dx\n",
    " =\\int_{a}^{b}(x^3-4x^2+4x+2) \\, dx\n",
    "$$\n",
    "\n",
    "Given $\\large a=\\frac{1}{2}$ and $\\large b=\\frac{5}{2}$,\n",
    "\n",
    "$$ \\large\n",
    "I=\\left.\\left(\\frac{x^4}{4}-\\frac{4x^3}{3}+2x^2+2x\\right)\\right|_a^b = \\frac{61}{12} \\approx 5.0833\n",
    "$$"
   ]
  },
  {
   "cell_type": "code",
   "execution_count": null,
   "metadata": {},
   "outputs": [],
   "source": [
    "I = 61/12"
   ]
  },
  {
   "cell_type": "code",
   "execution_count": null,
   "metadata": {},
   "outputs": [],
   "source": [
    "a = 0.5\n",
    "b = 2.5\n",
    "Ax = np.linspace(a, b, 101)\n",
    "Ay = f(Ax)"
   ]
  },
  {
   "cell_type": "markdown",
   "metadata": {},
   "source": [
    "## 1. Rectangle rule\n",
    "---"
   ]
  },
  {
   "cell_type": "code",
   "execution_count": null,
   "metadata": {},
   "outputs": [],
   "source": [
    "%%time\n",
    "def defInt_left(f, a, b, N):\n",
    "    # left-hand point\n",
    "    result = 0; FX = []; Xn = []\n",
    "    dx = abs(b - a)/N\n",
    "    while a < b:\n",
    "        result += f(a)*dx\n",
    "        FX += [f(a)]\n",
    "        Xn += [a]\n",
    "        a += dx\n",
    "    return result, FX, Xn, dx\n",
    "\n",
    "N = 4\n",
    "I_left, FX, Xn, dx = defInt_left(f, a, b, N)"
   ]
  },
  {
   "cell_type": "markdown",
   "metadata": {},
   "source": [
    "![rectangle left-hand point](output/integration_definite-integral_rectangleLeft.png \"Rectangle Left-Hand Point\")"
   ]
  },
  {
   "cell_type": "code",
   "execution_count": null,
   "metadata": {},
   "outputs": [],
   "source": [
    "%%time\n",
    "def defInt_right(f, a, b, N):\n",
    "    # right-hand point\n",
    "    result = 0; FX = []; Xn = []\n",
    "    dx = abs(b - a)/N\n",
    "    while a < b:\n",
    "        result += f(a + dx)*dx\n",
    "        FX += [f(a + dx)]\n",
    "        Xn += [a]\n",
    "        a += dx\n",
    "    return result, FX, Xn, dx\n",
    "\n",
    "N = 4\n",
    "I_right, FX, Xn, dx = defInt_right(f, a, b, N)"
   ]
  },
  {
   "cell_type": "markdown",
   "metadata": {},
   "source": [
    "![rectangle right-hand point](output/integration_definite-integral_rectangleRight.png \"Rectangle Right-Hand Point\")"
   ]
  },
  {
   "cell_type": "code",
   "execution_count": null,
   "metadata": {},
   "outputs": [],
   "source": [
    "%%time\n",
    "def defInt_middle(f, a, b, N):\n",
    "    # middle point\n",
    "    result = 0; FX = []; Xn = []\n",
    "    dx = abs(b - a)/N\n",
    "    while a < b:\n",
    "        result += f(a + dx/2)*dx\n",
    "        FX += [f(a + dx/2)]\n",
    "        Xn += [a]\n",
    "        a += dx\n",
    "    return result, FX, Xn, dx\n",
    "\n",
    "N = 4\n",
    "I_mid, FX, Xn, dx = defInt_middle(f, a, b, N)"
   ]
  },
  {
   "cell_type": "markdown",
   "metadata": {},
   "source": [
    "![rectangle middle point](output/integration_definite-integral_rectangleMiddle.png \"Rectangle Middle Point\")"
   ]
  },
  {
   "cell_type": "markdown",
   "metadata": {},
   "source": [
    "## 2. Trapezoidal rule\n",
    "---"
   ]
  },
  {
   "cell_type": "code",
   "execution_count": null,
   "metadata": {},
   "outputs": [],
   "source": [
    "%%time\n",
    "def defInt_trapezoid(f, a, b, N):\n",
    "    # trapezoidal rule\n",
    "    result = 0; FXa, FXb = [], []; Xn = []\n",
    "    dx = abs(b - a)/N\n",
    "    while a < b:\n",
    "        result += (f(a) + f(a + dx))*dx/2\n",
    "        FXa += [f(a)]; FXb += [f(a + dx)]\n",
    "        Xn += [a]\n",
    "        a += dx\n",
    "    return result, FXa, FXb, Xn, dx\n",
    "\n",
    "N = 4\n",
    "I_trap, FXa, FXb, Xn, dx = defInt_trapezoid(f, a, b, N)"
   ]
  },
  {
   "cell_type": "markdown",
   "metadata": {},
   "source": [
    "![trapezoidal](output/integration_definite-integral_trapezoid.png \"Trapezoidal\")"
   ]
  },
  {
   "cell_type": "markdown",
   "metadata": {},
   "source": [
    "## 3. Comparing to Ground Truth\n",
    "---"
   ]
  },
  {
   "cell_type": "code",
   "execution_count": null,
   "metadata": {},
   "outputs": [],
   "source": [
    "%%time\n",
    "Nx = range(1, 11)\n",
    "\n",
    "I1, I2, I3, I4 = [], [], [], []\n",
    "for Ni in Nx:\n",
    "    i1, *_ = defInt_left(f, a, b, Ni); I1 += [i1];\n",
    "    i2, *_ = defInt_right(f, a, b, Ni); I2 += [i2];\n",
    "    i3, *_ = defInt_middle(f, a, b, Ni); I3 += [i3];\n",
    "    i4, *_ = defInt_trapezoid(f, a, b, Ni); I4 += [i4];"
   ]
  },
  {
   "cell_type": "markdown",
   "metadata": {},
   "source": [
    "![comparing ground truth](output/integration_definite-integral_groundTruth.png \"Comparing to Ground Trouth\")"
   ]
  }
 ],
 "metadata": {
  "kernelspec": {
   "display_name": "Python 3",
   "language": "python",
   "name": "python3"
  },
  "language_info": {
   "codemirror_mode": {
    "name": "ipython",
    "version": 3
   },
   "file_extension": ".py",
   "mimetype": "text/x-python",
   "name": "python",
   "nbconvert_exporter": "python",
   "pygments_lexer": "ipython3",
   "version": "3.8.8"
  }
 },
 "nbformat": 4,
 "nbformat_minor": 2
}
