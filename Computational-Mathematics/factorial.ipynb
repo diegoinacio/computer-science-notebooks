{
 "cells": [
  {
   "cell_type": "markdown",
   "metadata": {},
   "source": [
    "# Factorial\n",
    "---\n",
    "- Author: Diego Inácio\n",
    "- GitHub: [github.com/diegoinacio](https://github.com/diegoinacio)\n",
    "- Notebook: [factorial.ipynb](https://github.com/diegoinacio/computer-science-notebooks/blob/master/Computational-Mathematics/factorial.ipynb)\n",
    "---\n",
    "A quick summary of factorial, gamma function and more."
   ]
  },
  {
   "cell_type": "code",
   "execution_count": null,
   "metadata": {},
   "outputs": [],
   "source": [
    "import numpy as np"
   ]
  },
  {
   "cell_type": "markdown",
   "metadata": {},
   "source": [
    "## Factorial\n",
    "---\n",
    "Factorial is a very important operation found in many areas of mathematics, most notably in probability, statistics, combinatorics, and more. In short, the factorial of a natural number $\\large n$, denoted by $\\large n!$, is the product of all non-negative integers less than or equal to $\\large n$."
   ]
  },
  {
   "cell_type": "markdown",
   "metadata": {},
   "source": [
    "### Definition\n",
    "---\n",
    "In product notation, the factorial of a positive integer **n** is defined as:\n",
    "\n",
    "$$ \\large\n",
    "n! = \\prod_{k=1}^n k = 1 \\cdot 2 \\cdot \\cdots \\cdot (n - 2) \\cdot (n - 1) \\cdot n\n",
    "$$"
   ]
  },
  {
   "cell_type": "markdown",
   "metadata": {},
   "source": [
    "#### Factorial of zero\n",
    "---\n",
    "The factorial of **0** is **1**, which means that $0! = 1$. Follow some properties that support this definition:\n",
    "\n",
    "---\n",
    "\n",
    "- *Property 1*: $\\large n! = \\frac{(n + 1)!}{n + 1}$\n",
    "\n",
    "If we start with the factorial of 5:\n",
    "\n",
    "$$ \\large\n",
    "5! = 5 \\cdot 4 \\cdot 3 \\cdot 2 \\cdot 1 = 120\n",
    "$$\n",
    "\n",
    "We can apply the property 1 and follow the pattern until we find the factorial of 0.\n",
    "\n",
    "$$ \\large\n",
    "\\begin{aligned}\n",
    "4! & = \\frac{5!}{5} = \\frac{120}{5} = 24 \\\\\n",
    "3! & = \\frac{4!}{4} = \\frac{24}{4} = 6 \\\\\n",
    "2! & = \\frac{3!}{3} = \\frac{6}{3} = 2 \\\\\n",
    "1! & = \\frac{2!}{2} = \\frac{2}{2} = 1 \\\\\n",
    "0! & = \\frac{1!}{1} = \\frac{1}{1} = 1\n",
    "\\end{aligned}\n",
    "$$\n",
    "\n",
    "---\n",
    "\n",
    "- *Property 2*: $\\large n! = n \\cdot (n - 1)!$\n",
    "\n",
    "This second property not only give us the idea of [recurrence relation](https://en.wikipedia.org/wiki/Recurrence_relation), which bring us the idea of [recursive computation](https://en.wikipedia.org/wiki/Recursion), but also motivates the idea that the factorial of **0** is **1**. Let's apply first this property to some values:\n",
    "\n",
    "$$ \\large\n",
    "\\begin{aligned}\n",
    "2! & = 2 \\cdot 1! = 2 \\cdot 1 = 2 \\\\\n",
    "3! & = 3 \\cdot 2! = 3 \\cdot 2 = 6 \\\\\n",
    "4! & = 4 \\cdot 3! = 4 \\cdot 6 = 24 \\\\\n",
    "5! & = 5 \\cdot 4! = 5 \\cdot 24 = 120 \\\\\n",
    "\\end{aligned}\n",
    "$$\n",
    "\n",
    "Applying the same pattern to $1!$, we can assume that $0!$ could only be **1**.\n",
    "\n",
    "$$ \\large\n",
    "\\begin{aligned}\n",
    "1! &= 1 \\cdot 0! \\\\\n",
    "1 &= 1 \\cdot 0!\n",
    "\\end{aligned}\n",
    "$$"
   ]
  },
  {
   "cell_type": "code",
   "execution_count": null,
   "metadata": {},
   "outputs": [],
   "source": [
    "def factorial(n):\n",
    "    # Factorial of zero\n",
    "    if n <= 1: return 1\n",
    "    # Recurrence relation\n",
    "    return n*factorial(n - 1)"
   ]
  },
  {
   "cell_type": "markdown",
   "metadata": {},
   "source": [
    "As an example, let's calculate the factorial from 0 to 9.\n",
    "\n",
    "$$ \\large\n",
    "\\begin{aligned}\n",
    "0! &= 1 \\\\\n",
    "1! &= 1 \\cdot 0! = 1 \\cdot 1 = 1 \\\\\n",
    "2! &= 2 \\cdot 1! = 2 \\cdot 1 = 2 \\\\\n",
    "3! &= 3 \\cdot 2! = 3 \\cdot 2 = 6 \\\\\n",
    "4! &= 4 \\cdot 3! = 4 \\cdot 6 = 24 \\\\\n",
    "5! &= 5 \\cdot 4! = 5 \\cdot 24 = 120 \\\\\n",
    "6! &= 6 \\cdot 5! = 6 \\cdot 120 = 720 \\\\\n",
    "7! &= 7 \\cdot 6! = 7 \\cdot 720 = 5040 \\\\\n",
    "8! &= 8 \\cdot 7! = 8 \\cdot 5040 = 40320 \\\\\n",
    "9! &= 9 \\cdot 8! = 9 \\cdot 40320 = 362880 \\\\\n",
    "\\end{aligned}\n",
    "$$"
   ]
  },
  {
   "cell_type": "code",
   "execution_count": null,
   "metadata": {},
   "outputs": [],
   "source": [
    "print(f'0! = {factorial(0)}')\n",
    "print(f'1! = {factorial(1)}')\n",
    "print(f'2! = {factorial(2)}')\n",
    "print(f'3! = {factorial(3)}')\n",
    "print(f'4! = {factorial(4)}')\n",
    "print(f'5! = {factorial(5)}')\n",
    "print(f'6! = {factorial(6)}')\n",
    "print(f'7! = {factorial(7)}')\n",
    "print(f'8! = {factorial(8)}')\n",
    "print(f'9! = {factorial(9)}')"
   ]
  },
  {
   "cell_type": "markdown",
   "metadata": {},
   "source": [
    "### Applications\n",
    "---\n",
    "How was said, the factorial operator has many applications in general mathematics, computer sciences and so on. To name a few, here are some well known applications:"
   ]
  },
  {
   "cell_type": "markdown",
   "metadata": {},
   "source": [
    "#### Permutation\n",
    "---\n",
    "One of the earliest uses of the factorial function involve counting [permutations](https://en.wikipedia.org/wiki/Permutation). *Permutation* of a set is the number of ways to arrange **n** distinct elements in **n** sequenced positions. This means that each way differs from the other in the way the elements are ordered. The permutation count is calculated as:\n",
    "\n",
    "$$ \\large\n",
    "P_n = n \\cdot (n-1) \\cdot (n-2) \\ \\cdot \\ ... \\ \\cdot \\ 2 \\cdot 1 = n!\n",
    "$$\n",
    "\n",
    "Notice the equation is equivalent to **factorial** of **n**.\n",
    "\n",
    "**For example**, given **3** colors {🟧, 🟩, 🟨}, in how many ways we can permute them?\n",
    "\n",
    "$$ \\large\n",
    "P(3) = 3! = 3 \\cdot 2 \\cdot 1 = 6\n",
    "$$\n",
    "\n",
    "| Permunation | Possibilities |\n",
    "| :---------: | :-----------: |\n",
    "| 1 | 🟧🟩🟨 |\n",
    "| 2 | 🟧🟨🟩 |\n",
    "| 3 | 🟩🟧🟨 |\n",
    "| 4 | 🟩🟨🟧 |\n",
    "| 5 | 🟨🟧🟩 |\n",
    "| 6 | 🟨🟩🟧 |"
   ]
  },
  {
   "cell_type": "code",
   "execution_count": null,
   "metadata": {},
   "outputs": [],
   "source": [
    "print(f'P(1) = {factorial(1)}')\n",
    "print(f'P(2) = {factorial(2)}')\n",
    "print(f'P(3) = {factorial(3)}')"
   ]
  },
  {
   "cell_type": "markdown",
   "metadata": {},
   "source": [
    "#### Binomial coeficient\n",
    "---\n",
    "Another very useful application in combinatorics is [binomial coefficients](https://en.wikipedia.org/wiki/Binomial_coefficient). *Binomial coefficient* (or **binomial number**) of a natural number $n$ and class $k$ (where $n≥k$) is an algebraic way to represent the combination of these two values. The binomial coefficient can be expressed as:\n",
    "\n",
    "$$ \\large\n",
    "{n \\choose k} = \\frac{n!}{k! \\cdot (n - k)!} = \\frac{n \\cdot (n-1) \\cdot (n-2) \\ \\cdot \\ ... \\ \\cdot \\ (n-k+1)}{k!}\n",
    "$$"
   ]
  },
  {
   "cell_type": "code",
   "execution_count": null,
   "metadata": {},
   "outputs": [],
   "source": [
    "def binomial(n, k):\n",
    "    n_ = factorial(n)\n",
    "    k_ = factorial(k)\n",
    "    nk_ = factorial(n - k)\n",
    "    return n_//(k_*nk_)"
   ]
  },
  {
   "cell_type": "markdown",
   "metadata": {},
   "source": [
    "For example, the binomial coefficient of the number **5** with class **3** is:\n",
    "\n",
    "$$ \\large \n",
    "{5 \\choose 3} = \\frac{5!}{3! \\cdot (5 - 3)!} = \\frac{5!}{3! \\cdot 2!} = \\frac{120}{6 \\cdot 2} = \\frac{120}{12} = 10\n",
    "$$"
   ]
  },
  {
   "cell_type": "code",
   "execution_count": null,
   "metadata": {},
   "outputs": [],
   "source": [
    "print(f'(5, 3) = {binomial(5, 3)}')"
   ]
  },
  {
   "cell_type": "markdown",
   "metadata": {},
   "source": [
    "## Gamma function\n",
    "--- \n",
    "Until here, the *factorial* operator has only been applied to integers. The **gamma function** (represented by $\\Gamma$) is an extension of the factorial applicable to real and complex numbers. For every positive integers $n$:\n",
    "\n",
    "$$ \\large\n",
    "\\Gamma(n) = (n - 1)! \\quad \\therefore \\quad \\Gamma(n + 1) = n!\n",
    "$$"
   ]
  },
  {
   "cell_type": "markdown",
   "metadata": {},
   "source": [
    "### Properties\n",
    "---\n",
    "There are 3 properties that facilitate the behavior of the function, as well as its computational validation. Are they:\n",
    "\n",
    "$$ \\large\n",
    "\\begin{alignat}{3}\n",
    "(1) \\quad & \\Gamma(n + 1) &&= n \\cdot \\Gamma(n) \\\\ \n",
    "(2) \\quad & \\Gamma(1) &&= 1 \\\\ \n",
    "(3) \\quad & \\Gamma(\\frac{1}{2}) &&= \\sqrt{\\pi} \\\\ \n",
    "\\end{alignat}\n",
    "$$"
   ]
  },
  {
   "cell_type": "markdown",
   "metadata": {},
   "source": [
    "### Lanczos approximation\n",
    "---\n",
    "The *gamma function* for any real or complex greater than zero is given by the *improper integral* denoted as:\n",
    "\n",
    "$$ \\large\n",
    "\\large \\Gamma(z)=\\int_{0}^{\\infty}t^{z-1}e^{-t}dt, \\quad \\Re > 0\n",
    "$$\n",
    "\n",
    "Given the property of having infinity in the interval (which makes this integral improper), we are going to use the method [Lanczos approximation](https://en.wikipedia.org/wiki/Lanczos_approximation) to compute the gamma function. The Lanczos approximation consists of the formula:\n",
    "\n",
    "$$ \\large\n",
    "\\large \\Gamma(z + 1)=\\sqrt{2\\pi}\\left(z+g+\\frac{1}{2}\\right)^{z+\\frac{1}{2}}e^{-\\left(z+g+\\frac{1}{2}\\right)}A_g(z)\n",
    "$$\n",
    "\n",
    "Where the convergent serie $A_g$ uses the [lanczos coefficients](https://en.wikipedia.org/wiki/Lanczos_approximation#Coefficients) defined based on the has the real constant $g$.\n",
    "\n",
    "$$ \\large \n",
    "A_g(z)=p_0(g)\\frac{1}{2} + p_1(g)\\frac{z}{z+1} + p_2(g)\\frac{z(z-1)}{(z+1)(z+2)} \\dots\n",
    "$$\n",
    "\n",
    "Although the formula is only valid for positive real, it can be extended by [reflection formula](https://en.wikipedia.org/wiki/Reflection_formula) for the entire complex plane (in our case, for values $\\Re < \\frac{1}{2}$).\n",
    "\n",
    "$$ \\large\n",
    "\\Gamma(z-1)\\Gamma(z) = \\frac{\\pi}{\\sin \\pi z}\n",
    "$$"
   ]
  },
  {
   "cell_type": "code",
   "execution_count": null,
   "metadata": {},
   "outputs": [],
   "source": [
    "# Lanczos coefficients when g = 7 and n = 9\n",
    "g = 7\n",
    "P = [\n",
    "    0.99999999999980993,\n",
    "    676.5203681218851,\n",
    "    -1259.1392167224028,\n",
    "    771.32342877765313,\n",
    "    -176.61502916214059,\n",
    "    12.507343278686905,\n",
    "    -0.13857109526572012,\n",
    "    9.9843695780195716e-6,\n",
    "    1.5056327351493116e-7\n",
    "]\n",
    "\n",
    "def reflection(z):\n",
    "    sin_ = np.sin(np.pi * z)\n",
    "    sin_Gamma = sin_*Gamma(1 - z)\n",
    "    gamma = np.pi/sin_Gamma\n",
    "    return gamma.real\n",
    "\n",
    "def Gamma(z):\n",
    "    z = complex(z, 0)\n",
    "    if z.real < 0.5: return reflection(z)\n",
    "    z = z - 1\n",
    "    Ag = P[0]\n",
    "    for i, p in enumerate(P[1:], 1):\n",
    "        Ag = Ag + p/(z + i)\n",
    "    zg12 = z + g + 1/2\n",
    "    gamma = np.sqrt(2*np.pi)*zg12**(z + 1/2)*np.exp(-zg12)*Ag\n",
    "    return gamma.real"
   ]
  },
  {
   "cell_type": "markdown",
   "metadata": {},
   "source": [
    "For example, applying the properties to integer inputs, we can validate the relationship to factorial calculation:\n",
    "\n",
    "$$ \\large\n",
    "\\begin{alignat}{4}\n",
    "\\Gamma(1) & = 1 \\\\\n",
    "\\Gamma(2) & = \\Gamma(1 + 1) &&= 1 \\cdot \\Gamma(1) &&= 1 \\\\\n",
    "\\Gamma(3) & = \\Gamma(2 + 1) &&= 2 \\cdot \\Gamma(1) &&= 2\\cdot 1 \\\\\n",
    "\\Gamma(4) & = \\Gamma(3 + 1) &&= 3 \\cdot \\Gamma(2) &&= 3 \\cdot 2\\cdot 1 \\\\\n",
    "\\end{alignat}\n",
    "$$\n",
    "\n",
    "In the same way, applying the third property, we can observe the result of factorial applied to real values:\n",
    "\n",
    "$$ \\large\n",
    "\\begin{alignat}{4}\n",
    "\\Gamma\\left(\\frac{1}{2}\\right) & = \\sqrt{\\pi} \\\\\n",
    "\\Gamma\\left(\\frac{3}{2}\\right) & = \\Gamma\\left(\\frac{1}{2} + 1\\right) &&= \\frac{1}{2} \\cdot \\Gamma\\left(\\frac{1}{2}\\right) &&= \\frac{\\sqrt{\\pi}}{2} \\\\\n",
    "\\Gamma\\left(\\frac{5}{2}\\right) & = \\Gamma\\left(\\frac{3}{2} + 1\\right) &&= \\frac{3}{2} \\cdot \\Gamma\\left(\\frac{3}{2}\\right) &&= \\frac{3\\sqrt{\\pi}}{4} \\\\\n",
    "\\end{alignat}\n",
    "$$"
   ]
  },
  {
   "cell_type": "code",
   "execution_count": null,
   "metadata": {},
   "outputs": [],
   "source": [
    "print(f'G: {Gamma(1):.04f} | F: {factorial(0)}')\n",
    "print(f'G: {Gamma(2):.04f} | F: {factorial(1)}')\n",
    "print(f'G: {Gamma(3):.04f} | F: {factorial(2)}')\n",
    "print(f'G: {Gamma(4):.04f} | F: {factorial(3)}')\n",
    "\n",
    "print(f'G: {Gamma(1/2):.04f} | {np.pi**0.5:.04f}')\n",
    "print(f'G: {Gamma(3/2):.04f} | {np.pi**0.5/2:.04f}')\n",
    "print(f'G: {Gamma(5/2):.04f} | {3*np.pi**0.5/4:.04f}')"
   ]
  },
  {
   "cell_type": "markdown",
   "metadata": {},
   "source": [
    "## Other functions\n",
    "---\n",
    "Many other very notable functions and number sequences are very closely related to the factorials, here are some of them:"
   ]
  },
  {
   "cell_type": "markdown",
   "metadata": {},
   "source": [
    "### Falling factorial\n",
    "---\n",
    "The *falling factorial* (sometimes called as **descending factorial**, **falling sequential product**, or **lower factorial**) is defined as the polynomial:\n",
    "\n",
    "$$ \\large\n",
    "(x)_n = x^{\\underline{n}} = \\prod_{k=0}^{n-1} (x - k) = x \\cdot (x - 1) \\cdot (x - 2) \\cdot \\cdots \\cdot (x - n + 1)\n",
    "$$\n",
    "\n",
    "The first few falling factorials are as follows:\n",
    "\n",
    "$$ \\large\n",
    "\\begin{alignat}{2}\n",
    "(x)_0 & &&= 1 \\\\\n",
    "(x)_1 & &&= x \\\\\n",
    "(x)_2 &= x \\cdot (x - 1) &&= x^2 - x \\\\\n",
    "(x)_3 &= x \\cdot (x - 1) \\cdot (x - 2) &&= x^3 - 3x^2 + 2x \\\\\n",
    "(x)_4 &= x \\cdot (x - 1) \\cdot (x - 2) \\cdot (x - 3) &&= x^4 - 6x^3 + 11x^2 - 6x \\\\\n",
    "\\end{alignat}\n",
    "$$"
   ]
  },
  {
   "cell_type": "code",
   "execution_count": null,
   "metadata": {},
   "outputs": [],
   "source": [
    "def fallingFactorial(x, n):\n",
    "    if n < 1: return 1\n",
    "    n = n if x > n else x\n",
    "    RANGE = np.arange(n)\n",
    "    FALL = [x - k for k in RANGE]\n",
    "    return np.prod(FALL, dtype=int)"
   ]
  },
  {
   "cell_type": "markdown",
   "metadata": {},
   "source": [
    "As an example, let's calculate the first few falling factorial of $x = 5$, as well as comparing with their polynomials."
   ]
  },
  {
   "cell_type": "code",
   "execution_count": null,
   "metadata": {},
   "outputs": [],
   "source": [
    "x = 5\n",
    "\n",
    "print(f'(x)_0 = {fallingFactorial(x, 0): <4} | {x**0}')\n",
    "print(f'(x)_1 = {fallingFactorial(x, 1): <4} | {x**1}')\n",
    "print(f'(x)_2 = {fallingFactorial(x, 2): <4} | {x**2 - x}')\n",
    "print(f'(x)_3 = {fallingFactorial(x, 3): <4} | {x**3 - 3*x**2 + 2*x}')\n",
    "print(f'(x)_4 = {fallingFactorial(x, 4): <4} | {x**4 - 6*x**3 + 11*x**2 - 6*x}')"
   ]
  },
  {
   "cell_type": "markdown",
   "metadata": {},
   "source": [
    "### Rising factorial\n",
    "---\n",
    "The *rising factorial*, commonly known as **Pochhammer function** or **Pochhammer polynomial** (sometimes called as **ascending factorial**, **rising sequential product**, or **upper factorial**), is defined as the polynomial:\n",
    "\n",
    "$$ \\large\n",
    "x^{(n)} = x^{\\overline{n}} = \\prod_{k=0}^{n-1} (x + k) = x \\cdot (x + 1) \\cdot (x + 2) \\cdot \\cdots \\cdot (x + n - 1)\n",
    "$$\n",
    "\n",
    "The first few rising factorials are as follows:\n",
    "\n",
    "$$ \\large\n",
    "\\begin{alignat}{2}\n",
    "x^{(0)} & &&= 1 \\\\\n",
    "x^{(1)} & &&= x \\\\\n",
    "x^{(2)} &= x \\cdot (x + 1) &&= x^2 + x \\\\\n",
    "x^{(3)} &= x \\cdot (x + 1) \\cdot (x + 2) &&= x^3 + 3x^2 + 2x \\\\\n",
    "x^{(4)} &= x \\cdot (x + 1) \\cdot (x + 2) \\cdot (x + 3) &&= x^4 + 6x^3 + 11x^2 + 6x \\\\\n",
    "\\end{alignat}\n",
    "$$"
   ]
  },
  {
   "cell_type": "code",
   "execution_count": null,
   "metadata": {},
   "outputs": [],
   "source": [
    "def risingFactorial(x, n):\n",
    "    if n < 1: return 1\n",
    "    RANGE = np.arange(n)\n",
    "    RISE = [x + k for k in RANGE]\n",
    "    return np.prod(RISE, dtype=int)"
   ]
  },
  {
   "cell_type": "markdown",
   "metadata": {},
   "source": [
    "As an example, let's calculate the first few rising factorial of $x = 5$, as well as comparing with their polynomials."
   ]
  },
  {
   "cell_type": "code",
   "execution_count": null,
   "metadata": {},
   "outputs": [],
   "source": [
    "x = 5\n",
    "\n",
    "print(f'x^(0) = {risingFactorial(x, 0): <4} | {x**0}')\n",
    "print(f'x^(1) = {risingFactorial(x, 1): <4} | {x**1}')\n",
    "print(f'x^(2) = {risingFactorial(x, 2): <4} | {x**2 + x}')\n",
    "print(f'x^(3) = {risingFactorial(x, 3): <4} | {x**3 + 3*x**2 + 2*x}')\n",
    "print(f'x^(4) = {risingFactorial(x, 4): <4} | {x**4 + 6*x**3 + 11*x**2 + 6*x}')"
   ]
  },
  {
   "cell_type": "markdown",
   "metadata": {},
   "source": [
    "### Double factorial\n",
    "---\n",
    "The *double factorial* of a natural number $\\large n$, denoted by $\\large n!!$, is the product of all non-negative integers less than or equal to $\\large n$ and have the same [parity](https://en.wikipedia.org/wiki/Parity_(mathematics)) (odd or even) as $n$. It means that:\n",
    "\n",
    "$$ \\large\n",
    "n!! = \\prod_{k=0}^{\\left\\lceil \\frac{n}{2} \\right\\rceil - 1} (n - 2k) = n \\cdot (n - 2) \\cdot (n - 4) \\cdot \\cdots\n",
    "$$\n",
    "\n",
    "When $n$ is even, its double factorial is defined as:\n",
    "\n",
    "$$ \\large\n",
    "n!! = \\prod_{k=1}^{\\frac{n}{2}} (2k) = n \\cdot (n - 2) \\cdot (n - 4) \\cdot \\cdots \\cdot 4 \\cdot 2\n",
    "$$\n",
    "\n",
    "When $n$ is odd, its double factorial is defined as:\n",
    "\n",
    "$$ \\large\n",
    "n!! = \\prod_{k=1}^{\\frac{n+1}{2}} (2k - 1) = n \\cdot (n - 2) \\cdot (n - 4) \\cdot \\cdots \\cdot 3 \\cdot 1\n",
    "$$"
   ]
  },
  {
   "cell_type": "code",
   "execution_count": null,
   "metadata": {},
   "outputs": [],
   "source": [
    "def doubleFactorial(n):\n",
    "    if n <= 1: return 1\n",
    "    n_ = np.ceil(n/2)\n",
    "    RANGE = np.arange(n_)\n",
    "    DOUBLE = [n - 2*k for k in RANGE]\n",
    "    return np.prod(DOUBLE, dtype=int)"
   ]
  },
  {
   "cell_type": "markdown",
   "metadata": {},
   "source": [
    "The first few double factorials are as follows:\n",
    "\n",
    "| n   | n!! | parity |\n",
    "| :-: | :-: | :----: |\n",
    "| 0   | 1   | zero   |\n",
    "| 1   | 1   | odd    |\n",
    "| 2   | 2   | even   |\n",
    "| 3   | 3   | odd    |\n",
    "| 4   | 8   | even   |\n",
    "| 5   | 15  | odd    |\n",
    "| 6   | 48  | even   |\n",
    "| 7   | 105 | odd    |\n",
    "| 8   | 384 | even   |\n",
    "| 9   | 945 | odd    |"
   ]
  },
  {
   "cell_type": "code",
   "execution_count": null,
   "metadata": {},
   "outputs": [],
   "source": [
    "print(f'0!! = {doubleFactorial(0)}')\n",
    "print(f'1!! = {doubleFactorial(1)}')\n",
    "print(f'2!! = {doubleFactorial(2)}')\n",
    "print(f'3!! = {doubleFactorial(3)}')\n",
    "print(f'4!! = {doubleFactorial(4)}')\n",
    "print(f'5!! = {doubleFactorial(5)}')\n",
    "print(f'6!! = {doubleFactorial(6)}')\n",
    "print(f'7!! = {doubleFactorial(7)}')\n",
    "print(f'8!! = {doubleFactorial(8)}')\n",
    "print(f'9!! = {doubleFactorial(9)}')"
   ]
  },
  {
   "cell_type": "markdown",
   "metadata": {},
   "source": [
    "### Primorial\n",
    "---\n",
    "The *primorial* of the *nth prime number*, denoted by $p_n\\#$, is the product of the $n$ first primes.\n",
    "\n",
    "$$ \\large\n",
    "p_n\\# = \\prod_{k=1}^n p_k\n",
    "$$\n",
    "\n",
    "where $p_k$ is the *kth* prime number."
   ]
  },
  {
   "cell_type": "code",
   "execution_count": null,
   "metadata": {},
   "outputs": [],
   "source": [
    "def is_prime(n):\n",
    "    for k in range(2, n):\n",
    "        if not n % k:\n",
    "            return False\n",
    "    return True\n",
    "\n",
    "def kth_primes(n):\n",
    "    if n <= 1: return [2]\n",
    "    PRIMES = [2, 3]\n",
    "    _next = PRIMES[-1] + 2\n",
    "    while len(PRIMES) < n:\n",
    "        if is_prime(_next):\n",
    "            PRIMES.append(_next)\n",
    "        _next += 2\n",
    "    return PRIMES\n",
    "\n",
    "def primoral(n):\n",
    "    if n < 1: return 1\n",
    "    PRIMES = kth_primes(n)\n",
    "    return np.prod(PRIMES, dtype=int)"
   ]
  },
  {
   "cell_type": "markdown",
   "metadata": {},
   "source": [
    "The calculation of the first few primorials are as follows:\n",
    "\n",
    "$$ \\large\n",
    "\\begin{alignedat}{1}\n",
    "p_0\\# & &&= 1 \\\\\n",
    "p_1\\# &= 2 &&= 2 \\\\\n",
    "p_2\\# &= 2 \\cdot 3 &&= 6 \\\\\n",
    "p_3\\# &= 2 \\cdot 3 \\cdot 5 &&= 30 \\\\\n",
    "p_4\\# &= 2 \\cdot 3 \\cdot 5 \\cdot 7 &&= 210 \\\\\n",
    "p_5\\# &= 2 \\cdot 3 \\cdot 5 \\cdot 7 \\cdot 11 &&= 2310 \\\\\n",
    "p_6\\# &= 2 \\cdot 3 \\cdot 5 \\cdot 7 \\cdot 11 \\cdot 13 &&= 30030 \\\\\n",
    "p_7\\# &= 2 \\cdot 3 \\cdot 5 \\cdot 7 \\cdot 11 \\cdot 13 \\cdot 17 &&= 510510 \\\\\n",
    "p_8\\# &= 2 \\cdot 3 \\cdot 5 \\cdot 7 \\cdot 11 \\cdot 13 \\cdot 17 \\cdot 19 &&= 9699690 \\\\\n",
    "p_9\\# &= 2 \\cdot 3 \\cdot 5 \\cdot 7 \\cdot 11 \\cdot 13 \\cdot 17 \\cdot 19 \\cdot 23 &&= 223092870\n",
    "\\end{alignedat}\n",
    "$$"
   ]
  },
  {
   "cell_type": "code",
   "execution_count": null,
   "metadata": {},
   "outputs": [],
   "source": [
    "print(f'p0# = {primoral(0)}')\n",
    "print(f'p1# = {primoral(1)}')\n",
    "print(f'p2# = {primoral(2)}')\n",
    "print(f'p3# = {primoral(3)}')\n",
    "print(f'p4# = {primoral(4)}')\n",
    "print(f'p5# = {primoral(5)}')\n",
    "print(f'p6# = {primoral(6)}')\n",
    "print(f'p7# = {primoral(7)}')\n",
    "print(f'p8# = {primoral(8)}')\n",
    "print(f'p9# = {primoral(9)}')"
   ]
  }
 ],
 "metadata": {
  "kernelspec": {
   "display_name": "Python 3",
   "language": "python",
   "name": "python3"
  },
  "language_info": {
   "codemirror_mode": {
    "name": "ipython",
    "version": 3
   },
   "file_extension": ".py",
   "mimetype": "text/x-python",
   "name": "python",
   "nbconvert_exporter": "python",
   "pygments_lexer": "ipython3",
   "version": "3.7.10"
  }
 },
 "nbformat": 4,
 "nbformat_minor": 2
}
