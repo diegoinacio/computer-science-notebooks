{
 "cells": [
  {
   "cell_type": "markdown",
   "metadata": {},
   "source": [
    "# Numerical Integration - Visualizations\n",
    "---\n",
    "- Author: Diego Inácio\n",
    "- GitHub: [github.com/diegoinacio](https://github.com/diegoinacio)"
   ]
  },
  {
   "cell_type": "code",
   "execution_count": null,
   "metadata": {},
   "outputs": [],
   "source": [
    "%matplotlib inline\n",
    "import matplotlib\n",
    "import matplotlib.pyplot as plt\n",
    "from matplotlib.patches import Polygon\n",
    "import numpy as np"
   ]
  },
  {
   "cell_type": "code",
   "execution_count": null,
   "metadata": {},
   "outputs": [],
   "source": [
    "plt.rcParams['figure.figsize'] = (16, 8)"
   ]
  },
  {
   "cell_type": "markdown",
   "metadata": {},
   "source": [
    "# 1. Definite Integral\n",
    "---\n",
    "$$ \\large\n",
    "f(x)=x^3-4x^2+4x+2\n",
    "$$"
   ]
  },
  {
   "cell_type": "code",
   "execution_count": null,
   "metadata": {},
   "outputs": [],
   "source": [
    "x = np.linspace(0, 3, 1001)\n",
    "f = lambda x: x**3 - 4*x**2 + 4*x + 2"
   ]
  },
  {
   "cell_type": "code",
   "execution_count": null,
   "metadata": {},
   "outputs": [],
   "source": [
    "a = 0.5\n",
    "b = 2.5\n",
    "Ax = np.linspace(a, b, 101)\n",
    "Ay = f(Ax)"
   ]
  },
  {
   "cell_type": "code",
   "execution_count": null,
   "metadata": {},
   "outputs": [],
   "source": [
    "with plt.xkcd():\n",
    "    fig, ax = plt.subplots()\n",
    "\n",
    "    plt.plot([0, a], [f(a)]*2, ':', c='black', alpha=0.35)\n",
    "    plt.plot([0, b], [f(b)]*2, ':', c='black', alpha=0.35)\n",
    "    plt.plot(x, f(x), c='red', linewidth=4)\n",
    "    plt.ylim([0, 6])\n",
    "\n",
    "    verts = [(a, 0), *zip(Ax, Ay), (b, 0)]\n",
    "    P = Polygon(verts, facecolor='0.85', edgecolor='0.75', hatch='xx')\n",
    "    ax.add_patch(P)\n",
    "\n",
    "    plt.text((a + b)/2, f((a + b)/2)/2,\n",
    "             r'$\\int_a^b f(x)\\, dx$',\n",
    "             horizontalalignment='center',\n",
    "             verticalalignment='center',\n",
    "             fontsize=24)\n",
    "\n",
    "    ax.set_xticks((a, b))\n",
    "    ax.set_xticklabels(('$a$', '$b$'))\n",
    "    ax.set_yticks([f(a), f(b)])\n",
    "    ax.set_yticklabels(('$f(a)$', '$f(b)$'))\n",
    "\n",
    "    fig.savefig('output/integration_definite-integral_integration.png', bbox_inches='tight')\n",
    "plt.show()"
   ]
  },
  {
   "cell_type": "markdown",
   "metadata": {},
   "source": [
    "$$ \\large\n",
    "I=\\int_{a}^{b}f(x) \\, dx\n",
    " =\\int_{a}^{b}(x^3-4x^2+4x+2) \\, dx\n",
    "$$\n",
    "\n",
    "Given $\\large a=\\frac{1}{2}$ and $\\large b=\\frac{5}{2}$,\n",
    "\n",
    "$$ \\large\n",
    "I=\\left.\\left(\\frac{x^4}{4}-\\frac{4x^3}{3}+2x^2+2x\\right)\\right|_a^b = \\frac{61}{12} \\approx 5.0833\n",
    "$$"
   ]
  },
  {
   "cell_type": "code",
   "execution_count": null,
   "metadata": {},
   "outputs": [],
   "source": [
    "I = 61/12"
   ]
  },
  {
   "cell_type": "markdown",
   "metadata": {},
   "source": [
    "## 1.1. Rectangle rule\n",
    "---"
   ]
  },
  {
   "cell_type": "code",
   "execution_count": null,
   "metadata": {
    "scrolled": false
   },
   "outputs": [],
   "source": [
    "def defInt_left(f, a, b, N):\n",
    "    result = 0; FX = []; Xn = []\n",
    "    dx = abs(b - a)/N\n",
    "    while a < b:\n",
    "        result += f(a)*dx\n",
    "        FX += [f(a)]\n",
    "        Xn += [a]\n",
    "        a += dx\n",
    "    return result, FX, Xn, dx\n",
    "\n",
    "N = 4\n",
    "I_left, FX, Xn, dx = defInt_left(f, a, b, N)\n",
    "\n",
    "fig, ax = plt.subplots()\n",
    "plt.plot(x, f(x), c='red', linewidth=4)\n",
    "plt.ylim([0, 6])\n",
    "\n",
    "for i, [fxi, xi] in enumerate(zip(FX, Xn)):\n",
    "    verts = [(xi, 0), (xi, fxi), (xi + dx, fxi), (xi + dx, 0)]\n",
    "    P = Polygon(verts, facecolor='0.85', edgecolor='0.75', hatch=['//', '\\\\\\\\'][i % 2])\n",
    "    ax.add_patch(P)\n",
    "\n",
    "plt.text(a, 5,\n",
    "         r'$I_{0}left{1}=\\sum_{0}i=0{1}^{0}{3}{1} f(x_i) \\cdot dx \\approx {2:.4f}$'.format('{', '}', I_left, N),\n",
    "         horizontalalignment='left',\n",
    "         verticalalignment='center',\n",
    "         fontsize=24)\n",
    "fig.savefig('output/integration_definite-integral_rectangleLeft.png', bbox_inches='tight')\n",
    "plt.show()"
   ]
  },
  {
   "cell_type": "code",
   "execution_count": null,
   "metadata": {},
   "outputs": [],
   "source": [
    "def defInt_right(f, a, b, N):\n",
    "    result = 0; FX = []; Xn = []\n",
    "    dx = abs(b - a)/N\n",
    "    while a < b:\n",
    "        result += f(a + dx)*dx\n",
    "        FX += [f(a + dx)]\n",
    "        Xn += [a]\n",
    "        a += dx\n",
    "    return result, FX, Xn, dx\n",
    "\n",
    "N = 4\n",
    "I_right, FX, Xn, dx = defInt_right(f, a, b, N)\n",
    "\n",
    "fig, ax = plt.subplots()\n",
    "plt.plot(x, f(x), c='red', linewidth=4)\n",
    "plt.ylim([0, 6])\n",
    "\n",
    "for i, [fxi, xi] in enumerate(zip(FX, Xn)):\n",
    "    verts = [(xi, 0), (xi, fxi), (xi + dx, fxi), (xi + dx, 0)]\n",
    "    P = Polygon(verts, facecolor='0.85', edgecolor='0.75', hatch=['//', '\\\\\\\\'][i % 2])\n",
    "    ax.add_patch(P)\n",
    "\n",
    "plt.text(a, 5,\n",
    "         r'$I_{0}right{1}=\\sum_{0}i=0{1}^{0}{3}{1} f(x_i+dx) \\cdot dx \\approx {2:.4f}$'.format('{', '}', I_right, N),\n",
    "         horizontalalignment='left',\n",
    "         verticalalignment='center',\n",
    "         fontsize=24)\n",
    "fig.savefig('output/integration_definite-integral_rectangleRight.png', bbox_inches='tight')\n",
    "plt.show()"
   ]
  },
  {
   "cell_type": "code",
   "execution_count": null,
   "metadata": {},
   "outputs": [],
   "source": [
    "def defInt_middle(f, a, b, N):\n",
    "    result = 0; FX = []; Xn = []\n",
    "    dx = abs(b - a)/N\n",
    "    while a < b:\n",
    "        result += f(a + dx/2)*dx\n",
    "        FX += [f(a + dx/2)]\n",
    "        Xn += [a]\n",
    "        a += dx\n",
    "    return result, FX, Xn, dx\n",
    "\n",
    "N = 4\n",
    "I_mid, FX, Xn, dx = defInt_middle(f, a, b, N)\n",
    "\n",
    "fig, ax = plt.subplots()\n",
    "plt.plot(x, f(x), c='red', linewidth=4)\n",
    "plt.ylim([0, 6])\n",
    "\n",
    "for i, [fxi, xi] in enumerate(zip(FX, Xn)):\n",
    "    verts = [(xi, 0), (xi, fxi), (xi + dx, fxi), (xi + dx, 0)]\n",
    "    P = Polygon(verts, facecolor='0.85', edgecolor='0.75', hatch=['//', '\\\\\\\\'][i % 2])\n",
    "    ax.add_patch(P)\n",
    "\n",
    "plt.text(a, 5,\n",
    "         r'$I_{0}mid{1}=\\sum_{0}i=0{1}^{0}{3}{1} f(x_i + \\frac{0}dx{1}{0}2{1}) \\cdot dx \\approx {2:.4f}$'.format('{', '}', I_mid, N),\n",
    "         horizontalalignment='left',\n",
    "         verticalalignment='center',\n",
    "         fontsize=24)\n",
    "fig.savefig('output/integration_definite-integral_rectangleMiddle.png', bbox_inches='tight')\n",
    "plt.show()"
   ]
  },
  {
   "cell_type": "markdown",
   "metadata": {},
   "source": [
    "## 1.2. Trapezoidal rule\n",
    "---"
   ]
  },
  {
   "cell_type": "code",
   "execution_count": null,
   "metadata": {},
   "outputs": [],
   "source": [
    "def defInt_trapezoid(f, a, b, N):\n",
    "    result = 0; FXa, FXb = [], []; Xn = []\n",
    "    dx = abs(b - a)/N\n",
    "    while a < b:\n",
    "        result += (f(a) + f(a + dx))*dx/2\n",
    "        FXa += [f(a)]; FXb += [f(a + dx)]\n",
    "        Xn += [a]\n",
    "        a += dx\n",
    "    return result, FXa, FXb, Xn, dx\n",
    "\n",
    "N = 4\n",
    "I_trap, FXa, FXb, Xn, dx = defInt_trapezoid(f, a, b, N)\n",
    "\n",
    "fig, ax = plt.subplots()\n",
    "plt.plot(x, f(x), c='red', linewidth=4)\n",
    "plt.ylim([0, 6])\n",
    "\n",
    "for i, [fxai, fxbi, xi] in enumerate(zip(FXa, FXb, Xn)):\n",
    "    verts = [(xi, 0), (xi, fxai), (xi + dx, fxbi), (xi + dx, 0)]\n",
    "    P = Polygon(verts, facecolor='0.85', edgecolor='0.75', hatch=['//', '\\\\\\\\'][i % 2])\n",
    "    ax.add_patch(P)\n",
    "\n",
    "plt.text(a, 5,\n",
    "         r'$I_{0}trap{1}=\\sum_{0}i=0{1}^{0}{3}{1} \\frac{0}\\left[f(x_i)+f(x_i + dx)\\right] \\cdot dx{1}{0}2{1}\\approx {2:.4f}$'.format('{', '}', I_trap, N),\n",
    "         horizontalalignment='left',\n",
    "         verticalalignment='center',\n",
    "         fontsize=24)\n",
    "fig.savefig('output/integration_definite-integral_trapezoid.png', bbox_inches='tight')\n",
    "plt.show()"
   ]
  },
  {
   "cell_type": "markdown",
   "metadata": {},
   "source": [
    "## 1.3. Comparing to Ground Truth\n",
    "---"
   ]
  },
  {
   "cell_type": "code",
   "execution_count": null,
   "metadata": {},
   "outputs": [],
   "source": [
    "fig, ax = plt.subplots()\n",
    "\n",
    "Nx = range(1, 11)\n",
    "\n",
    "plt.plot([Nx[0], Nx[-1]], [I]*2, ':', c='red', linewidth=2, label='Analytic Method - Ground truth')\n",
    "\n",
    "I1, I2, I3, I4 = [], [], [], []\n",
    "for Ni in Nx:\n",
    "    i1, *_ = defInt_left(f, a, b, Ni); I1 += [i1];\n",
    "    i2, *_ = defInt_right(f, a, b, Ni); I2 += [i2];\n",
    "    i3, *_ = defInt_middle(f, a, b, Ni); I3 += [i3];\n",
    "    i4, *_ = defInt_trapezoid(f, a, b, Ni); I4 += [i4];\n",
    "\n",
    "plt.plot(Nx, I1, marker='o', label='Rectangle rule - Left')\n",
    "plt.plot(Nx, I2, marker='o', label='Rectangle rule - Right')\n",
    "plt.plot(Nx, I3, marker='o', label='Rectangle rule - Middle')\n",
    "plt.plot(Nx, I4, marker='o', label='Trapezoidal rule')\n",
    "\n",
    "plt.xticks(Nx)\n",
    "plt.xlabel('N')\n",
    "plt.ylabel(r'$\\sum f(x_i) \\cdot dx$')\n",
    "plt.legend()\n",
    "\n",
    "fig.savefig('output/integration_definite-integral_groundTruth.png', bbox_inches='tight')\n",
    "plt.show()"
   ]
  }
 ],
 "metadata": {
  "kernelspec": {
   "display_name": "Python 3",
   "language": "python",
   "name": "python3"
  },
  "language_info": {
   "codemirror_mode": {
    "name": "ipython",
    "version": 3
   },
   "file_extension": ".py",
   "mimetype": "text/x-python",
   "name": "python",
   "nbconvert_exporter": "python",
   "pygments_lexer": "ipython3",
   "version": "3.7.10"
  }
 },
 "nbformat": 4,
 "nbformat_minor": 2
}
