{
 "cells": [
  {
   "cell_type": "markdown",
   "metadata": {},
   "source": [
    "# Basics [NumExpr]\n",
    "---\n",
    "- Author: Diego Inácio\n",
    "- GitHub: [github.com/diegoinacio](https://github.com/diegoinacio)\n",
    "- Notebook: [basics_NumExpr.ipynb](https://github.com/diegoinacio/computer-science-notebooks/blob/master/High-Performance-Computing/basics_NumExpr.ipynb)\n",
    "- Spec: **CPU** i7-9750H 2.6 GHz **GPU** GeForce RTX 2060\n",
    "---\n",
    "Basic functions and operations using [NumExpr](https://numexpr.readthedocs.io/), *NumPy* and *Python*."
   ]
  },
  {
   "cell_type": "code",
   "execution_count": null,
   "metadata": {},
   "outputs": [],
   "source": [
    "import numpy as np"
   ]
  },
  {
   "cell_type": "markdown",
   "metadata": {},
   "source": [
    "## Installation\n",
    "---\n",
    "\n",
    "Installation command for *anaconda* and *pip*:\n",
    "\n",
    "```\n",
    "$ conda install -c anaconda numexpr\n",
    "```\n",
    "\n",
    "or\n",
    "\n",
    "```\n",
    "$ pip install numexpr\n",
    "```"
   ]
  },
  {
   "cell_type": "code",
   "execution_count": null,
   "metadata": {},
   "outputs": [],
   "source": [
    "import numexpr as ne"
   ]
  },
  {
   "cell_type": "markdown",
   "metadata": {},
   "source": [
    "## Evaluate\n",
    "---\n",
    "The string passed to **evaluate** is compiled into an object representing the expression and types of the arrays used by the function *numexpr*."
   ]
  },
  {
   "cell_type": "code",
   "execution_count": null,
   "metadata": {},
   "outputs": [],
   "source": [
    "from time import time"
   ]
  },
  {
   "cell_type": "code",
   "execution_count": null,
   "metadata": {},
   "outputs": [],
   "source": [
    "def timeIt_numpy(a, b, runs, loops):\n",
    "    output = np.zeros(runs)\n",
    "    for r in range(runs):\n",
    "        to = time()\n",
    "        for _ in range(loops):\n",
    "            current = 2*a**3 + 3*b**2\n",
    "        ti = time()\n",
    "        output[r] = ti - to\n",
    "    return output"
   ]
  },
  {
   "cell_type": "code",
   "execution_count": null,
   "metadata": {},
   "outputs": [],
   "source": [
    "def timeIt_numexpr(a, b, runs, loops):\n",
    "    output = np.zeros(runs)\n",
    "    for r in range(runs):\n",
    "        to = time()\n",
    "        for _ in range(loops):\n",
    "            current = ne.evaluate('2*a**3 + 3*b**2')\n",
    "        ti = time()\n",
    "        output[r] = ti - to\n",
    "    return output"
   ]
  },
  {
   "cell_type": "markdown",
   "metadata": {},
   "source": [
    "Lets compare the performance given vectors with different input sizes $N$."
   ]
  },
  {
   "cell_type": "code",
   "execution_count": null,
   "metadata": {},
   "outputs": [],
   "source": [
    "%matplotlib inline\n",
    "import matplotlib.pyplot as plt"
   ]
  },
  {
   "cell_type": "code",
   "execution_count": null,
   "metadata": {},
   "outputs": [],
   "source": [
    "%%time\n",
    "fig, ax = plt.subplots(1, 1, figsize=(16, 8))\n",
    "\n",
    "N = 16\n",
    "runs = 10\n",
    "loops = 1000\n",
    "time_numpy = np.zeros((runs, N))\n",
    "time_numexpr = np.zeros((runs, N))\n",
    "\n",
    "# Time\n",
    "for i in range(N):\n",
    "    a = np.random.rand(2**(i + 1))\n",
    "    b = np.random.rand(2**(i + 1))\n",
    "    time_numpy[:,i] = timeIt_numpy(a, b, runs, loops)\n",
    "    time_numexpr[:,i] = timeIt_numexpr(a, b, runs, loops)\n",
    "\n",
    "# Plot\n",
    "x = np.arange(N)\n",
    "mu = np.mean(time_numpy, axis=0)\n",
    "# std = np.std(time_numpy, axis=0)\n",
    "ax.plot(mu, label=\"NumPy\")\n",
    "# ax.fill_between(x, mu - std, mu + std, alpha=0.2)\n",
    "\n",
    "x = np.arange(N)\n",
    "mu = np.mean(time_numexpr, axis=0)\n",
    "# std = np.std(time_numexpr, axis=0)\n",
    "ax.plot(mu, label=\"NumExpr\")\n",
    "# ax.fill_between(x, mu - std, mu + std, alpha=0.2)\n",
    "\n",
    "ax.set_xlabel('N')\n",
    "ax.set_xticks(x)\n",
    "ax.set_xticklabels([f'$2^{{{e + 1}}}$'for e in range(N)])\n",
    "ax.set_ylabel('time in seconds for each run')\n",
    "\n",
    "ax.set_title(f'runs = {runs} | loops = {loops}')\n",
    "ax.legend()\n",
    "\n",
    "plt.show()"
   ]
  }
 ],
 "metadata": {
  "kernelspec": {
   "display_name": "Python 3",
   "language": "python",
   "name": "python3"
  },
  "language_info": {
   "codemirror_mode": {
    "name": "ipython",
    "version": 3
   },
   "file_extension": ".py",
   "mimetype": "text/x-python",
   "name": "python",
   "nbconvert_exporter": "python",
   "pygments_lexer": "ipython3",
   "version": "3.8.8"
  }
 },
 "nbformat": 4,
 "nbformat_minor": 2
}
