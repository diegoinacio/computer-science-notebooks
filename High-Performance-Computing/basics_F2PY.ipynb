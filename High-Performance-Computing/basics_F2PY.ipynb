{
 "cells": [
  {
   "cell_type": "markdown",
   "metadata": {},
   "source": [
    "# Basics [F2PY]\n",
    "---\n",
    "- Author: Diego Inácio\n",
    "- GitHub: [github.com/diegoinacio](https://github.com/diegoinacio)\n",
    "- Notebook: [basics_F2PY.ipynb](https://github.com/diegoinacio/computer-science-notebooks/blob/master/High-Performance-Computing/basics_F2PY.ipynb)\n",
    "- Spec: **CPU** i7-9750H 2.6 GHz **GPU** GeForce RTX 2060\n",
    "---\n",
    "Basic functions and operations using [F2PY](https://numpy.org/devdocs/f2py/index.html), *NumPy* and *Python*."
   ]
  },
  {
   "cell_type": "code",
   "execution_count": null,
   "metadata": {},
   "outputs": [],
   "source": [
    "import numpy as np"
   ]
  },
  {
   "cell_type": "markdown",
   "metadata": {},
   "source": [
    "## Installation\n",
    "---\n",
    "\n",
    "F2PY is a native *Fortran* to *Python* interface generator from [NumPy](https://numpy.org/). Thus, the [Installation](https://numpy.org/devdocs/user/install.html) command for *anaconda* and *pip*:\n",
    "\n",
    "```\n",
    "$ conda install numpy\n",
    "```\n",
    "\n",
    "or\n",
    "\n",
    "```\n",
    "$ pip install numpy\n",
    "```"
   ]
  },
  {
   "cell_type": "markdown",
   "metadata": {},
   "source": [
    "## Compilation\n",
    "---\n",
    "A *Fortran* source file can have the name of the module. For example, given the source file `examples_f2py.f90` with a simple function which returns a string in bytes.\n",
    "\n",
    "```fortran\n",
    "function hello_f2py() result(output)\n",
    "    character(len=12) :: output\n",
    "    output = \"Hello, F2PY!\"\n",
    "end function hello_f2py\n",
    "```\n",
    "\n",
    "The following step is the compilation, which is done by running the command:\n",
    "\n",
    "```\n",
    "$ f2py -m examples_f2py -c examples_f2py.f90\n",
    "```"
   ]
  },
  {
   "cell_type": "code",
   "execution_count": null,
   "metadata": {},
   "outputs": [],
   "source": [
    "from examples_f2py import hello_f2py"
   ]
  },
  {
   "cell_type": "code",
   "execution_count": null,
   "metadata": {},
   "outputs": [],
   "source": [
    "print(hello_f2py())"
   ]
  },
  {
   "cell_type": "markdown",
   "metadata": {},
   "source": [
    "## Performance\n",
    "---\n",
    "The following example, we will try to approximate the value $\\large\\pi$ with the idea of $\\\\tan^{-1}1=\\frac{\\pi}{4}$ using the power series of *arctan*, defined by:\n",
    "\n",
    "$$\\large\n",
    "4 \\sum_{n=0}^{N}\\frac{(-1)^n}{2n+1} \\approx \\pi\n",
    "$$\n",
    "\n",
    "where $N$ tends to the infinity."
   ]
  },
  {
   "cell_type": "code",
   "execution_count": null,
   "metadata": {},
   "outputs": [],
   "source": [
    "def pi_py(N):\n",
    "    pi = 0\n",
    "    for n in range(N):\n",
    "        pi += (-1)**n/(2*n + 1)\n",
    "    return 4*pi\n",
    "\n",
    "print(pi_py(1000000))"
   ]
  },
  {
   "cell_type": "markdown",
   "metadata": {},
   "source": [
    "In the same *Fortran* source file `examples_f2py.f90`, lets include the function and adapt it to be compiled.\n",
    "\n",
    "```fortran\n",
    "function pi_f2py(N_) result(pi)\n",
    "    integer :: N_, n\n",
    "    real    :: pi\n",
    "    pi = 0\n",
    "    do n=0,N_\n",
    "        pi = pi + (-1)**n/real(2*n + 1)\n",
    "    end do\n",
    "    pi = 4*pi\n",
    "end function pi_f2py\n",
    "```\n",
    "\n",
    "*p.s.: compile it again by running the command:*\n",
    "\n",
    "```\n",
    "$ f2py -m examples_f2py -c examples_f2py.f90\n",
    "```"
   ]
  },
  {
   "cell_type": "code",
   "execution_count": null,
   "metadata": {},
   "outputs": [],
   "source": [
    "from examples_f2py import pi_f2py"
   ]
  },
  {
   "cell_type": "code",
   "execution_count": null,
   "metadata": {},
   "outputs": [],
   "source": [
    "# Time measurement over the situations\n",
    "print('[Python] pi_py |', end=' ')\n",
    "%timeit -n 5 -r 5 pi_py(1000000)\n",
    "print('[F2PY] pi_f2py |', end=' ')\n",
    "%timeit -n 5 -r 5 pi_f2py(1000000)"
   ]
  },
  {
   "cell_type": "markdown",
   "metadata": {},
   "source": [
    "## Inline fortran source\n",
    "---\n",
    "Build inline fortran commands and compile with `numpy.f2py`."
   ]
  },
  {
   "cell_type": "code",
   "execution_count": null,
   "metadata": {},
   "outputs": [],
   "source": [
    "fsource = '''\n",
    "recursive function factorial(x) result(output)\n",
    "    integer :: x, output\n",
    "    if (x <= 1) then\n",
    "        output = 1\n",
    "    else\n",
    "        output = x*factorial(x - 1)\n",
    "    end if\n",
    "end function factorial\n",
    "'''\n",
    "\n",
    "import numpy.f2py\n",
    "numpy.f2py.compile(\n",
    "    fsource, modulename='example_f2py', extension='.f90', verbose=0\n",
    ")"
   ]
  },
  {
   "cell_type": "code",
   "execution_count": null,
   "metadata": {},
   "outputs": [],
   "source": [
    "from example_f2py import factorial\n",
    "print(factorial(10))"
   ]
  }
 ],
 "metadata": {
  "kernelspec": {
   "display_name": "Python 3",
   "language": "python",
   "name": "python3"
  },
  "language_info": {
   "codemirror_mode": {
    "name": "ipython",
    "version": 3
   },
   "file_extension": ".py",
   "mimetype": "text/x-python",
   "name": "python",
   "nbconvert_exporter": "python",
   "pygments_lexer": "ipython3",
   "version": "3.8.8"
  }
 },
 "nbformat": 4,
 "nbformat_minor": 2
}
