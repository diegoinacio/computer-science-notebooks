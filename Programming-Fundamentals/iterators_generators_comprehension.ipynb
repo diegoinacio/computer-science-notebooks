{
 "cells": [
  {
   "cell_type": "markdown",
   "metadata": {},
   "source": [
    "# Iterators, Generators and Comprehension Expressions\n",
    "---\n",
    "- Author: Diego Inácio\n",
    "- GitHub: [github.com/diegoinacio](https://github.com/diegoinacio)\n",
    "- Notebook: [iterators_generators_comprehension.ipynb](https://github.com/diegoinacio/computer-science-notebooks/blob/master/Programming-Fundamentals/iterators_generators_comprehension.ipynb)\n",
    "---\n",
    "A quick exploration of iterable Python objects."
   ]
  },
  {
   "cell_type": "markdown",
   "metadata": {},
   "source": [
    "## Iterators\n",
    "---\n",
    "An *iterator* is an object that implements the iterator protocol using the methods `__iter__()` and `__next__()`, which goes through the each element of the given object. In other words, iterators are objects that contain a countable number of elements.\n",
    "\n",
    "The built in types such *strings*, *lists*, *tuples*, *sets*, and *dictionaries* are all iterable objects, but not in iterator form. To parse them to interator form, simply use the method `iter()`."
   ]
  },
  {
   "cell_type": "code",
   "execution_count": null,
   "metadata": {},
   "outputs": [],
   "source": [
    "print(iter(\"abcd\"))\n",
    "print(iter([\"a\", \"b\", \"c\"]))\n",
    "print(iter((\"a\", \"b\", \"c\")))\n",
    "print(iter({\"a\", \"b\", \"c\"}))\n",
    "print(iter({\"a\": 1, \"b\": 2, \"c\": 3}))"
   ]
  },
  {
   "cell_type": "markdown",
   "metadata": {},
   "source": [
    "Notice that the iterator form of a dictionary is `*_keyiterator` since it is a hashable object.\n",
    "\n",
    "To iterate through the elements, just use the method `next()` until it reaches the last element, then it will throw an error after that."
   ]
  },
  {
   "cell_type": "code",
   "execution_count": null,
   "metadata": {},
   "outputs": [],
   "source": [
    "iterator = iter([1, 2, 3])\n",
    "\n",
    "print(next(iterator))\n",
    "print(next(iterator))\n",
    "print(next(iterator))\n",
    "print(next(iterator))"
   ]
  },
  {
   "cell_type": "markdown",
   "metadata": {},
   "source": [
    "## Generators\n",
    "---\n",
    "*Generator*, in a simple way, is a kind of routine that returns an array. In addition, it is defined to control the bahavior of a loop by using the `yield` keyword to return an iterator."
   ]
  },
  {
   "cell_type": "code",
   "execution_count": null,
   "metadata": {},
   "outputs": [],
   "source": [
    "def first_generator():\n",
    "    yield \"first iterator\"\n",
    "    yield \"second iterator\"\n",
    "    yield \"third iterator\"\n",
    "\n",
    "print(first_generator())\n",
    "print(list(first_generator()))"
   ]
  },
  {
   "cell_type": "markdown",
   "metadata": {},
   "source": [
    "We used 3 yields to deliver our elements separately, but we can use loops to control the behavior of our generator."
   ]
  },
  {
   "cell_type": "code",
   "execution_count": null,
   "metadata": {},
   "outputs": [],
   "source": [
    "def character_range(a, b):\n",
    "    ord_a = ord(a)\n",
    "    ord_b = ord(b) + 1\n",
    "    for o in range(ord_a, ord_b):\n",
    "        yield chr(o)\n",
    "\n",
    "print(character_range(\"a\", \"n\"))\n",
    "print(list(character_range(\"a\", \"n\")))"
   ]
  },
  {
   "cell_type": "markdown",
   "metadata": {},
   "source": [
    "## Comprehension Expressions\n",
    "---\n",
    "*Comprehension expressions* is a Python-specific syntax for defining, in a very elegant way, generators in a single line of code. The general form of a comprehension expression is denoted as `(<expression> for <var> in <iterable> [if <condition>])` but this can be applied to *lists*, *tuples*, *sets*, and *dictionaries* in the same way.\n",
    "\n",
    "- List comprehension form: `[<expression> for <var> in <iterable> [if <condition>]]`\n",
    "- Set comprehension form: `{<expression> for <var> in <iterable> [if <condition>]}`\n",
    "- Dictionary comprehension form: `{<key>:<expression> for <var> in <iterable> [if <condition>]}`"
   ]
  },
  {
   "cell_type": "code",
   "execution_count": null,
   "metadata": {},
   "outputs": [],
   "source": [
    "generator_comprehensions = (x for x in range(10))\n",
    "print(type(generator_comprehensions), generator_comprehensions)"
   ]
  },
  {
   "cell_type": "code",
   "execution_count": null,
   "metadata": {},
   "outputs": [],
   "source": [
    "list_comprehensions = [x**2 for x in range(10)]\n",
    "print(type(list_comprehensions), list_comprehensions)\n",
    "\n",
    "set_comprehensions = {e for e in [1, 2, 2, 3, 3, 3, 4, 1]}\n",
    "print(type(set_comprehensions), set_comprehensions)\n",
    "\n",
    "dict_comprehensions = {str(e+1):(e+1)*10 for e in range(5)}\n",
    "print(type(dict_comprehensions), dict_comprehensions)"
   ]
  },
  {
   "cell_type": "markdown",
   "metadata": {},
   "source": [
    "Whereas parentheses are used for generators and if you want to define a tuple by using comprehension syntax, you can just use the type function."
   ]
  },
  {
   "cell_type": "code",
   "execution_count": null,
   "metadata": {},
   "outputs": [],
   "source": [
    "tuple_comprehensions = tuple(x**3 for x in range(10))\n",
    "print(type(tuple_comprehensions), tuple_comprehensions)"
   ]
  },
  {
   "cell_type": "markdown",
   "metadata": {},
   "source": [
    "### Conditional\n",
    "---\n",
    "It is entirely possible to use conditionals inside comprehension expressions and it has two basic ways:\n",
    "\n",
    "- As a filter: `[<expression> for <var> in <iterable> if <condition>]`\n",
    "- As a statement: `[<expression> if <condition> else <expression> for <var> in <iterable>]`"
   ]
  },
  {
   "cell_type": "code",
   "execution_count": null,
   "metadata": {},
   "outputs": [],
   "source": [
    "even_numbers = [x for x in range(20) if not x % 2]\n",
    "even_numbers"
   ]
  },
  {
   "cell_type": "code",
   "execution_count": null,
   "metadata": {},
   "outputs": [],
   "source": [
    "# Use else to define a second expression\n",
    "# It's possible to use elif in the same way\n",
    "[x+1 if not x % 2 else x+2 for x in range(10)]"
   ]
  },
  {
   "cell_type": "markdown",
   "metadata": {},
   "source": [
    "### Nested comprehension\n",
    "---\n",
    "Given the following Python code:\n",
    "\n",
    "``` python\n",
    "output = []\n",
    "for N in range(5):\n",
    "    for _ in range(N):\n",
    "        output.append(N)\n",
    "\n",
    "print(output)\n",
    "```\n",
    "\n",
    "The output would be:\n",
    "\n",
    "`[1, 2, 2, 3, 3, 3, 4, 4, 4, 4]`\n",
    "\n",
    "Using list comprehension we can do the same by defining:\n",
    "\n",
    "`[<expression> for <var1> in <iterable1> for <var2> in <iterable2>]`"
   ]
  },
  {
   "cell_type": "code",
   "execution_count": null,
   "metadata": {},
   "outputs": [],
   "source": [
    "[N for N in range(5) for _ in range(N)]"
   ]
  },
  {
   "cell_type": "markdown",
   "metadata": {},
   "source": [
    "To work with multidimensional objects like matrices, we can nest multiple comprehensions. For example, given the matrix:\n",
    "\n",
    "``` python\n",
    "matrix = [[0,   1,  2,  3,  4],\n",
    "          [5,   6,  7,  8,  9],\n",
    "          [10, 11, 12, 13, 14],\n",
    "          [15, 16, 17, 18, 19],\n",
    "          [20, 21, 22, 23, 24]]\n",
    "```\n",
    "\n",
    "Using for loops, we can do this with the following code:\n",
    "\n",
    "``` python\n",
    "matrix = []\n",
    "for i in range(5):\n",
    "    matrix.append([])\n",
    "    for j in range(5):\n",
    "        matrix[i].append(i*5 + j)\n",
    "\n",
    "print(matrix)\n",
    "```\n",
    "\n",
    "output: `[[0, 1, 2, 3, 4], [5, 6, 7, 8, 9], [10, 11, 12, 13, 14], [15, 16, 17, 18, 19], [20, 21, 22, 23, 24]]`\n",
    "\n",
    "Using list comprehension we can do the same by defining:\n",
    "\n",
    "`[[<expression> for <var2> in <iterable2>] for <var1> in <iterable1>]`"
   ]
  },
  {
   "cell_type": "code",
   "execution_count": null,
   "metadata": {},
   "outputs": [],
   "source": [
    "[[i*5 + j for j in range(5)] for i in range(5)]"
   ]
  }
 ],
 "metadata": {
  "kernelspec": {
   "display_name": "Python 3",
   "language": "python",
   "name": "python3"
  },
  "language_info": {
   "codemirror_mode": {
    "name": "ipython",
    "version": 3
   },
   "file_extension": ".py",
   "mimetype": "text/x-python",
   "name": "python",
   "nbconvert_exporter": "python",
   "pygments_lexer": "ipython3",
   "version": "3.7.10"
  }
 },
 "nbformat": 4,
 "nbformat_minor": 2
}
