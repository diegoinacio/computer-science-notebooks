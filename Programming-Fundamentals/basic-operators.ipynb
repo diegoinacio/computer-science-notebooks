{
 "cells": [
  {
   "cell_type": "markdown",
   "metadata": {},
   "source": [
    "# Basic Operators\n",
    "---\n",
    "- Author: Diego Inácio\n",
    "- GitHub: [github.com/diegoinacio](https://github.com/diegoinacio)\n",
    "- Notebook: [basic-operators.ipynb](https://github.com/diegoinacio/computer-science-notebooks/blob/master/Programming-Fundamentals/basic-operators.ipynb)\n",
    "---\n",
    "A brief overview of basic *Python* operators."
   ]
  },
  {
   "cell_type": "markdown",
   "metadata": {},
   "source": [
    "Operators are special symbols used to perform operations on variables and values.\n",
    "\n",
    "For example, if we want to sum two numbers (**2** and **3**) we use the expression `2 + 3`. In this case, we have an *arithmetic operator* `+` to perform the sum between the two numbers, which results in **5**."
   ]
  },
  {
   "cell_type": "code",
   "execution_count": null,
   "metadata": {},
   "outputs": [],
   "source": [
    "print(2 + 3)"
   ]
  },
  {
   "cell_type": "markdown",
   "metadata": {},
   "source": [
    "There are a variety of operator types and we will explore each of them."
   ]
  },
  {
   "cell_type": "markdown",
   "metadata": {},
   "source": [
    "## Arithmetic Operators\n",
    "---\n",
    "*Arithmetic operators* are used to perform common mathematical operations between two numeric values.\n",
    "\n",
    "| Symbol | Operation                                                             |  Statement   | Example                         |\n",
    "| :----: | :-------------------------------------------------------------------- | :----------: | :------------------------------ |\n",
    "|   +    | Add two operands                                                      |  a **+** b   | **5 + 3** results into **5**    |\n",
    "|   -    | Subtract the right operand from the left one                          |  a **-** b   | **5 - 3** results into **2**    |\n",
    "|   \\*   | Multiply two operands                                                 |  a **\\*** b  | **5 \\* 2** results into **10**  |\n",
    "|   /    | Divide the left operand by the right one                              |    a / b     | **5 / 2** results into **2.5**  |\n",
    "|   //   | Divide the left operand by the right one and result into whole number |    a // b    | **5 // 2** results into **2**   |\n",
    "|   %    | Remainder of the division of the left operand by the right            |  a **%** b   | **5 % 3** results into **2**    |\n",
    "|  \\*\\*  | Exponentiation with the left operand raised by the right one          | a **\\*\\*** b | **2 \\*\\* 3** results into **8** |"
   ]
  },
  {
   "cell_type": "code",
   "execution_count": null,
   "metadata": {},
   "outputs": [],
   "source": [
    "print(f'       Adition: 5 + 3  = {5 + 3}')\n",
    "print(f'   Subtraction: 5 - 3  = {5 - 3}')\n",
    "print(f'Multiplication: 5 * 2  = {5 * 2}')\n",
    "print(f'      Division: 5 / 2  = {5 / 2}')\n",
    "print(f'Floor Division: 5 // 2 = {5 // 2}')\n",
    "print(f'       Modulus: 5 % 3  = {5 % 3}')\n",
    "print(f'Exponentiation: 2 ** 3 = {2 ** 3}')"
   ]
  },
  {
   "cell_type": "markdown",
   "metadata": {},
   "source": [
    "## Assignment operators\n",
    "---\n",
    "*Assignment operators* are used to assign values to variables.\n",
    "\n",
    "| Symbol | Operation                                         |   Statement   | Example                                                                                                 |\n",
    "| :----: | :------------------------------------------------ | :-----------: | :------------------------------------------------------------------------------------------------------ |\n",
    "|   =    | Assign value of right expression to left variable |   a **=** b   | **a = 7** inputs **7** into the variable **a**                                                          |\n",
    "|   +=   | Assign value of right expression to left left     |  a **+=** b   | **a += 4** add **4** to **a** and inputs the result into the variable **a**                             |\n",
    "|   -=   | Assign value of right expression to left left     |  a **-=** b   | **a -= 2** subtract **2** from **a** and inputs the result into the variable **a**                      |\n",
    "|  \\*=   | Assign value of right expression to left left     |  a **\\*=** b  | **a \\*= 3** multiply **3** by **a** and inputs the result into the variable **a**                       |\n",
    "|   /=   | Assign value of right expression to left left     |  a **/=** b   | **a /= 2** divide **a** by **2** and inputs the result into the variable **a**                          |\n",
    "|  //=   | Assign value of right expression to left left     |  a **//=** b  | **a //= 4** divide (floor) **a** by **4** and inputs the whole result into the variable **a**           |\n",
    "|   %=   | Assign value of right expression to left left     |  a **%=** b   | **a %= 3** modulus **a** by **3** and inputs the result into the variable **a**                         |\n",
    "| \\*\\*=  | Assign value of right expression to left left     | a **\\*\\*=** b | **a \\*\\*= 3** raises **a** by **3** and inputs the result into the variable **a**                       |\n",
    "|   &=   | Assign value of right expression to left left     |  a **&=** b   | **a &= 12** bitwise AND on **a** and the right expression and inputs the result into the variable **a** |\n",
    "|  \\|=   | Assign value of right expression to left left     |  a **\\|=** b  | **a \\|= 3** bitwise OR on **a** and the right expression and inputs the result into the variable **a**  |\n",
    "|   ^=   | Assign value of right expression to left left     |  a **^=** b   | **a ^= 12** bitwise XOR on **a** and the right expression and inputs the result into the variable **a** |\n",
    "|  <<=   | Assign value of right expression to left left     |  a **<<=** b  | **a <<= 2** **2** bitwise left shift on **a** and inputs the result into the variable **a**             |\n",
    "|  >>=   | Assign value of right expression to left left     |  a **>>=** b  | **a >>= 2** **1** bitwise right shift on **a** and inputs the result into the variable **a**            |"
   ]
  },
  {
   "cell_type": "code",
   "execution_count": null,
   "metadata": {},
   "outputs": [],
   "source": [
    "a = 7\n",
    "print(f'                        Assign: a = 3   -> a is {a}')\n",
    "\n",
    "# Current value of a is 7\n",
    "a += 4\n",
    "print(f'                Add and Assign: a += 4  -> a now is {a}')\n",
    "\n",
    "# Current value of a is 11\n",
    "a -= 2\n",
    "print(f'           Subtract and Assign: a -= 2  -> a now is {a}')\n",
    "\n",
    "# Current value of a is 9\n",
    "a *= 3\n",
    "print(f'           Multiply and Assign: a *= 3  -> a now is {a}')\n",
    "\n",
    "# Current value of a is 27\n",
    "a /= 2\n",
    "print(f'             Divide and Assign: a /= 2  -> a now is {a}')\n",
    "\n",
    "# Current value of a is 13.5\n",
    "\n",
    "a //= 4\n",
    "print(f'       Divide floor and Assign: a //= 4 -> a now is {a}')\n",
    "\n",
    "\n",
    "a = 11\n",
    "a %= 3\n",
    "print(f'            Modulus and Assign: a %= 3  -> a is {a}')\n",
    "\n",
    "# Current value of a is 2\n",
    "a **= 3\n",
    "print(f'        Exponential and Assign: a **= 3 -> a now is {a}')\n",
    "\n",
    "# Current value of a is 8\n",
    "a &= 12\n",
    "print(f'        Bitwise AND and Assign: a &= 12 -> a now is {a}')\n",
    "\n",
    "# Current value of a is 8\n",
    "a |= 1\n",
    "print(f'         Bitwise OR and Assign: a |= 1  -> a now is {a}')\n",
    "\n",
    "# Current value of a is 9\n",
    "a ^= 12\n",
    "print(f'        Bitwise XOR and Assign: a ^= 12 -> a now is {a}')\n",
    "\n",
    "# Current value of a is 5\n",
    "a <<= 2\n",
    "print(f' Bitwise left shift and Assign: a <<= 2 -> a now is {a}')\n",
    "\n",
    "# Current value of a is 20\n",
    "a >>= 1\n",
    "print(f'Bitwise right shift and Assign: a >>= 1 -> a now is {a}')"
   ]
  },
  {
   "cell_type": "markdown",
   "metadata": {},
   "source": [
    "## Comparison operators\n",
    "---\n",
    "*Comparison operators* are used to compare values, returning `True` or `False` depending on the condition.\n",
    "\n",
    "| Symbol | Operation                                                                                    | Statement  | Example                         |\n",
    "| :----: | :------------------------------------------------------------------------------------------- | :--------: | :------------------------------ |\n",
    "|   ==   | If the value of the two operands are **equal**, then the condition is `true`                 | a **==** b | **3 == 3** results into `True`  |\n",
    "|   !=   | If the value of the two operands are **different**, then the condition is `true`             | a **!=** b | **7 != 3** results into `True`  |\n",
    "|   >    | If the left operand is **greater** than the right one, then the condition is `true`          | a **>** b  | **3 > 7** results into `False`  |\n",
    "|   <    | If the left operand is **less** than the right one, then the condition is `true`             | a **<** b  | **3 < 7** results into `True`   |\n",
    "|   >=   | If the left operand is **greater or equal** than the right one, then the condition is `true` | a **>=** b | **3 >= 3** results into `True`  |\n",
    "|   <=   | If the left operand is **less or equal** than the right one, then the condition is `true`    | a **<=** b | **4 <= 3** results into `False` |"
   ]
  },
  {
   "cell_type": "code",
   "execution_count": null,
   "metadata": {},
   "outputs": [],
   "source": [
    "print(f'           Equal: 3 == 3 = {3 == 3}')\n",
    "print(f'       Different: 7 != 3 = {7 != 3}')\n",
    "print(f'         Greater: 3 > 7  = {3 > 7}')\n",
    "print(f'            Less: 3 < 7  = {3 < 7}')\n",
    "print(f'Greater or Equal: 3 >= 3 = {3 >= 3}')\n",
    "print(f'   Less or Equal: 4 <= 3 = {4 <= 3}')"
   ]
  },
  {
   "cell_type": "markdown",
   "metadata": {},
   "source": [
    "## Logical operators\n",
    "---\n",
    "*Logical operators* are used to combine conditional statements.\n",
    "\n",
    "| Symbol | Operation                                             |  Statement  | Example                                 |\n",
    "| :----: | :---------------------------------------------------- | :---------: | :-------------------------------------- |\n",
    "|  and   | It is `true` if both operands are true                | a **and** b | **True and False** results into `False` |\n",
    "|   or   | It is `true` if any of the operands is true           | a **or** b  | **True or False** results into `True`   |\n",
    "|  not   | It is `true` if the operand is `false` and vice-versa |  **not** a  | **not False** results into `True`       |"
   ]
  },
  {
   "cell_type": "code",
   "execution_count": null,
   "metadata": {},
   "outputs": [],
   "source": [
    "print(f'And: True and False = {True and False}')\n",
    "print(f' Or: True or False  = {True or False}')\n",
    "print(f'Not: not False      = {not False}')"
   ]
  },
  {
   "cell_type": "markdown",
   "metadata": {},
   "source": [
    "## Identity operators\n",
    "---\n",
    "*Identity operators* are used to compare if the operands are the same object in memory location. In other words, compare if objects have the same `id`.\n",
    "\n",
    "| Symbol | Operation                                           |   Statement    | Example                                     |\n",
    "| :----: | :-------------------------------------------------- | :------------: | :------------------------------------------ |\n",
    "|   is   | It is `true` if both operands are the same object   |   a **is** b   | **1 is [1][0]** results into `True`         |\n",
    "| is not | It is `true` if both operands are different objects | a **is not** b | **type(1) is not int** results into `False` |"
   ]
  },
  {
   "cell_type": "code",
   "execution_count": null,
   "metadata": {},
   "outputs": [],
   "source": [
    "print(f'    Is: 1 is [1][0]        = {1 is [1][0]}')\n",
    "print(f'Is Not: type(1) is not int = {type(1) is not int}')"
   ]
  },
  {
   "cell_type": "markdown",
   "metadata": {},
   "source": [
    "## Membership operators\n",
    "---\n",
    "*Membership operators* are used to check if operand exists in an iterable object.\n",
    "\n",
    "| Symbol | Operation                                            |   Statement    | Example                                    |\n",
    "| :----: | :--------------------------------------------------- | :------------: | :----------------------------------------- |\n",
    "|   in   | It is `true` if operand exists in an iterable object |   a **in** B   | **\"a\" in \"abacaxi\"** results into `True`   |\n",
    "| not in | It is `true` if both operands are different objects  | a **not in** B | **4 not in (1, 2, 3)** results into `True` |"
   ]
  },
  {
   "cell_type": "code",
   "execution_count": null,
   "metadata": {},
   "outputs": [],
   "source": [
    "print(f'    In: \"a\" in \"abacaxi\"   = {\"a\" in \"abacaxi\"}')\n",
    "print(f'Not In: 4 not in (1, 2, 3) = {4 not in (1, 2, 3)}')"
   ]
  },
  {
   "cell_type": "markdown",
   "metadata": {},
   "source": [
    "## Bitwise operators\n",
    "---\n",
    "*Bitwise operators* are used to compare logically binary bits.\n",
    "\n",
    "| Symbol | Operation                                                  | Statement  | Example                                                    |\n",
    "| :----: | :--------------------------------------------------------- | :--------: | :--------------------------------------------------------- |\n",
    "|   &    | Bitwise **AND** sets 1 if both bits are 1                  | a **&** B  | **0b0101 & 0b0100** results into `4`, which is `0b0100*`   |\n",
    "|   \\|   | Bitwise **OR** sets 1 if any bit is 1                      | a **\\|** B | **0b1001 \\| 0b0100** results into `13`, which is `0b1101*` |\n",
    "|   ^    | Bitwise **XOR** sets 1 if both bits are different          | a **^** b  | **0b1011 ^ 0b0111** results into `12`, which is `0b1100*`  |\n",
    "|   ~    | Bitwise **NOT** inverts all the bits, including the signal |  **~** a   | **~0b01** results into `-2`, which is `-0b10`              |\n",
    "|   <<   | Bitwise **left shift** move all the bits to the left       | a **<<** b | **0b00010 << 2** results into `8`, which is `0b01000`      |\n",
    "|   >>   | Bitwise **right shift** move all the bits to the right     | a **>>** b | **0b100 >> 1** results into `2`, which is `0b010`          |"
   ]
  },
  {
   "cell_type": "code",
   "execution_count": null,
   "metadata": {},
   "outputs": [],
   "source": [
    "print(f'        And: 0b0101 & 0b0100 = {0b0101 & 0b0100}')\n",
    "print(f'         Or: 0b1001 | 0b0100 = {0b1001 | 0b0100}')\n",
    "print(f'        Xor: 0b1011 ^ 0b0111 = {0b1011 ^ 0b0111}')\n",
    "print(f'        Not: ~0b01           = {~0b01}')\n",
    "print(f' Left shift: 0b00010 << 2    = {0b00010 << 2}')\n",
    "print(f'Right shift: 0b100 >> 1      = {0b100 >> 1}')"
   ]
  }
 ],
 "metadata": {
  "kernelspec": {
   "display_name": "Python 3",
   "language": "python",
   "name": "python3"
  },
  "language_info": {
   "codemirror_mode": {
    "name": "ipython",
    "version": 3
   },
   "file_extension": ".py",
   "mimetype": "text/x-python",
   "name": "python",
   "nbconvert_exporter": "python",
   "pygments_lexer": "ipython3",
   "version": "3.7.10"
  }
 },
 "nbformat": 4,
 "nbformat_minor": 2
}
